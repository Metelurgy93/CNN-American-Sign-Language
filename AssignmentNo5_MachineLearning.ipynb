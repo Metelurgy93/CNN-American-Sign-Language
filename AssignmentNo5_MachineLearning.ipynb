{
 "cells": [
  {
   "cell_type": "code",
   "execution_count": 19,
   "metadata": {},
   "outputs": [],
   "source": [
    "import matplotlib.pyplot as plt\n",
    "import glob\n",
    "import cv2\n",
    "import tensorflow as tf\n",
    "from skimage.color import rgb2lab\n",
    "from skimage.transform import resize\n",
    "from collections import namedtuple\n",
    "from tqdm import tqdm\n",
    "import numpy as np\n",
    "np.random.seed(101)\n",
    "%matplotlib inline"
   ]
  },
  {
   "cell_type": "code",
   "execution_count": 20,
   "metadata": {},
   "outputs": [],
   "source": [
    "Dataset = namedtuple('Dataset', ['X', 'y'])\n",
    "IsSavePath = True\n",
    "FOLDER_LABELS = 5\n",
    "N_LABELS = 24\n",
    "RESIZED_IMAGE = (32, 32)"
   ]
  },
  {
   "cell_type": "code",
   "execution_count": 3,
   "metadata": {},
   "outputs": [
    {
     "name": "stdout",
     "output_type": "stream",
     "text": [
      "/Volumes/Shared/MAC/UCDenver_CSE/MachineLearning/Assignment5/dataset5/A/a/\n"
     ]
    },
    {
     "name": "stderr",
     "output_type": "stream",
     "text": [
      "100%|██████████| 527/527 [00:04<00:00, 128.44it/s]\n",
      "  3%|▎         | 15/515 [00:00<00:03, 146.57it/s]"
     ]
    },
    {
     "name": "stdout",
     "output_type": "stream",
     "text": [
      "/Volumes/Shared/MAC/UCDenver_CSE/MachineLearning/Assignment5/dataset5/A/b/\n"
     ]
    },
    {
     "name": "stderr",
     "output_type": "stream",
     "text": [
      "100%|██████████| 515/515 [00:03<00:00, 152.98it/s]\n",
      "  2%|▏         | 12/556 [00:00<00:04, 118.46it/s]"
     ]
    },
    {
     "name": "stdout",
     "output_type": "stream",
     "text": [
      "/Volumes/Shared/MAC/UCDenver_CSE/MachineLearning/Assignment5/dataset5/A/c/\n"
     ]
    },
    {
     "name": "stderr",
     "output_type": "stream",
     "text": [
      "100%|██████████| 556/556 [00:03<00:00, 155.64it/s]\n",
      "  3%|▎         | 14/535 [00:00<00:03, 135.12it/s]"
     ]
    },
    {
     "name": "stdout",
     "output_type": "stream",
     "text": [
      "/Volumes/Shared/MAC/UCDenver_CSE/MachineLearning/Assignment5/dataset5/A/d/\n"
     ]
    },
    {
     "name": "stderr",
     "output_type": "stream",
     "text": [
      "100%|██████████| 535/535 [00:03<00:00, 152.74it/s]\n",
      "  2%|▏         | 13/523 [00:00<00:04, 125.81it/s]"
     ]
    },
    {
     "name": "stdout",
     "output_type": "stream",
     "text": [
      "/Volumes/Shared/MAC/UCDenver_CSE/MachineLearning/Assignment5/dataset5/A/e/\n"
     ]
    },
    {
     "name": "stderr",
     "output_type": "stream",
     "text": [
      "100%|██████████| 523/523 [00:03<00:00, 150.82it/s]\n",
      "  3%|▎         | 13/518 [00:00<00:04, 126.05it/s]"
     ]
    },
    {
     "name": "stdout",
     "output_type": "stream",
     "text": [
      "/Volumes/Shared/MAC/UCDenver_CSE/MachineLearning/Assignment5/dataset5/A/f/\n"
     ]
    },
    {
     "name": "stderr",
     "output_type": "stream",
     "text": [
      "100%|██████████| 518/518 [00:04<00:00, 115.85it/s]\n",
      "  2%|▏         | 11/527 [00:00<00:04, 103.88it/s]"
     ]
    },
    {
     "name": "stdout",
     "output_type": "stream",
     "text": [
      "/Volumes/Shared/MAC/UCDenver_CSE/MachineLearning/Assignment5/dataset5/A/g/\n"
     ]
    },
    {
     "name": "stderr",
     "output_type": "stream",
     "text": [
      "100%|██████████| 527/527 [00:05<00:00, 91.73it/s]\n",
      "  2%|▏         | 10/522 [00:00<00:05, 97.99it/s]"
     ]
    },
    {
     "name": "stdout",
     "output_type": "stream",
     "text": [
      "/Volumes/Shared/MAC/UCDenver_CSE/MachineLearning/Assignment5/dataset5/A/h/\n"
     ]
    },
    {
     "name": "stderr",
     "output_type": "stream",
     "text": [
      "100%|██████████| 522/522 [00:05<00:00, 88.31it/s] \n",
      "  2%|▏         | 11/514 [00:00<00:04, 106.69it/s]"
     ]
    },
    {
     "name": "stdout",
     "output_type": "stream",
     "text": [
      "/Volumes/Shared/MAC/UCDenver_CSE/MachineLearning/Assignment5/dataset5/A/i/\n"
     ]
    },
    {
     "name": "stderr",
     "output_type": "stream",
     "text": [
      "100%|██████████| 514/514 [00:04<00:00, 123.60it/s]\n",
      "  0%|          | 0/517 [00:00<?, ?it/s]"
     ]
    },
    {
     "name": "stdout",
     "output_type": "stream",
     "text": [
      "/Volumes/Shared/MAC/UCDenver_CSE/MachineLearning/Assignment5/dataset5/A/k/\n"
     ]
    },
    {
     "name": "stderr",
     "output_type": "stream",
     "text": [
      "100%|██████████| 517/517 [00:04<00:00, 118.27it/s]\n",
      "  2%|▏         | 9/515 [00:00<00:05, 85.78it/s]"
     ]
    },
    {
     "name": "stdout",
     "output_type": "stream",
     "text": [
      "/Volumes/Shared/MAC/UCDenver_CSE/MachineLearning/Assignment5/dataset5/A/l/\n"
     ]
    },
    {
     "name": "stderr",
     "output_type": "stream",
     "text": [
      "100%|██████████| 515/515 [00:06<00:00, 80.91it/s]\n",
      "  3%|▎         | 15/526 [00:00<00:03, 147.86it/s]"
     ]
    },
    {
     "name": "stdout",
     "output_type": "stream",
     "text": [
      "/Volumes/Shared/MAC/UCDenver_CSE/MachineLearning/Assignment5/dataset5/A/m/\n"
     ]
    },
    {
     "name": "stderr",
     "output_type": "stream",
     "text": [
      "100%|██████████| 526/526 [00:03<00:00, 165.85it/s]\n",
      "  2%|▏         | 13/529 [00:00<00:04, 122.81it/s]"
     ]
    },
    {
     "name": "stdout",
     "output_type": "stream",
     "text": [
      "/Volumes/Shared/MAC/UCDenver_CSE/MachineLearning/Assignment5/dataset5/A/n/\n"
     ]
    },
    {
     "name": "stderr",
     "output_type": "stream",
     "text": [
      "100%|██████████| 529/529 [00:03<00:00, 134.83it/s]\n",
      "  2%|▏         | 12/511 [00:00<00:04, 117.82it/s]"
     ]
    },
    {
     "name": "stdout",
     "output_type": "stream",
     "text": [
      "/Volumes/Shared/MAC/UCDenver_CSE/MachineLearning/Assignment5/dataset5/A/o/\n"
     ]
    },
    {
     "name": "stderr",
     "output_type": "stream",
     "text": [
      "100%|██████████| 511/511 [00:03<00:00, 160.82it/s]\n",
      "  2%|▏         | 9/571 [00:00<00:06, 85.39it/s]"
     ]
    },
    {
     "name": "stdout",
     "output_type": "stream",
     "text": [
      "/Volumes/Shared/MAC/UCDenver_CSE/MachineLearning/Assignment5/dataset5/A/p/\n"
     ]
    },
    {
     "name": "stderr",
     "output_type": "stream",
     "text": [
      "100%|██████████| 571/571 [00:03<00:00, 156.20it/s]\n",
      "  3%|▎         | 13/515 [00:00<00:04, 124.66it/s]"
     ]
    },
    {
     "name": "stdout",
     "output_type": "stream",
     "text": [
      "/Volumes/Shared/MAC/UCDenver_CSE/MachineLearning/Assignment5/dataset5/A/q/\n"
     ]
    },
    {
     "name": "stderr",
     "output_type": "stream",
     "text": [
      "100%|██████████| 515/515 [00:03<00:00, 163.21it/s]\n",
      "  3%|▎         | 16/527 [00:00<00:03, 155.28it/s]"
     ]
    },
    {
     "name": "stdout",
     "output_type": "stream",
     "text": [
      "/Volumes/Shared/MAC/UCDenver_CSE/MachineLearning/Assignment5/dataset5/A/r/\n"
     ]
    },
    {
     "name": "stderr",
     "output_type": "stream",
     "text": [
      "100%|██████████| 527/527 [00:03<00:00, 134.03it/s]\n",
      "  3%|▎         | 16/470 [00:00<00:02, 153.53it/s]"
     ]
    },
    {
     "name": "stdout",
     "output_type": "stream",
     "text": [
      "/Volumes/Shared/MAC/UCDenver_CSE/MachineLearning/Assignment5/dataset5/A/s/\n"
     ]
    },
    {
     "name": "stderr",
     "output_type": "stream",
     "text": [
      "100%|██████████| 470/470 [00:02<00:00, 163.81it/s]\n",
      "  2%|▏         | 13/523 [00:00<00:04, 123.02it/s]"
     ]
    },
    {
     "name": "stdout",
     "output_type": "stream",
     "text": [
      "/Volumes/Shared/MAC/UCDenver_CSE/MachineLearning/Assignment5/dataset5/A/t/\n"
     ]
    },
    {
     "name": "stderr",
     "output_type": "stream",
     "text": [
      "100%|██████████| 523/523 [00:03<00:00, 144.09it/s]\n",
      "  3%|▎         | 17/523 [00:00<00:03, 167.83it/s]"
     ]
    },
    {
     "name": "stdout",
     "output_type": "stream",
     "text": [
      "/Volumes/Shared/MAC/UCDenver_CSE/MachineLearning/Assignment5/dataset5/A/u/\n"
     ]
    },
    {
     "name": "stderr",
     "output_type": "stream",
     "text": [
      "100%|██████████| 523/523 [00:03<00:00, 158.08it/s]\n",
      "  3%|▎         | 15/506 [00:00<00:03, 142.86it/s]"
     ]
    },
    {
     "name": "stdout",
     "output_type": "stream",
     "text": [
      "/Volumes/Shared/MAC/UCDenver_CSE/MachineLearning/Assignment5/dataset5/A/v/\n"
     ]
    },
    {
     "name": "stderr",
     "output_type": "stream",
     "text": [
      "100%|██████████| 506/506 [00:03<00:00, 153.68it/s]\n",
      "  3%|▎         | 16/524 [00:00<00:03, 157.85it/s]"
     ]
    },
    {
     "name": "stdout",
     "output_type": "stream",
     "text": [
      "/Volumes/Shared/MAC/UCDenver_CSE/MachineLearning/Assignment5/dataset5/A/w/\n"
     ]
    },
    {
     "name": "stderr",
     "output_type": "stream",
     "text": [
      "100%|██████████| 524/524 [00:03<00:00, 166.51it/s]\n",
      "  3%|▎         | 15/521 [00:00<00:03, 140.81it/s]"
     ]
    },
    {
     "name": "stdout",
     "output_type": "stream",
     "text": [
      "/Volumes/Shared/MAC/UCDenver_CSE/MachineLearning/Assignment5/dataset5/A/x/\n"
     ]
    },
    {
     "name": "stderr",
     "output_type": "stream",
     "text": [
      "100%|██████████| 521/521 [00:03<00:00, 150.14it/s]\n",
      "  1%|          | 6/532 [00:00<00:08, 59.78it/s]"
     ]
    },
    {
     "name": "stdout",
     "output_type": "stream",
     "text": [
      "/Volumes/Shared/MAC/UCDenver_CSE/MachineLearning/Assignment5/dataset5/A/y/\n"
     ]
    },
    {
     "name": "stderr",
     "output_type": "stream",
     "text": [
      "100%|██████████| 532/532 [00:04<00:00, 115.16it/s]\n",
      "  2%|▏         | 10/535 [00:00<00:05, 91.85it/s]"
     ]
    },
    {
     "name": "stdout",
     "output_type": "stream",
     "text": [
      "/Volumes/Shared/MAC/UCDenver_CSE/MachineLearning/Assignment5/dataset5/B/a/\n"
     ]
    },
    {
     "name": "stderr",
     "output_type": "stream",
     "text": [
      "100%|██████████| 535/535 [00:05<00:00, 92.79it/s]\n",
      "  2%|▏         | 14/576 [00:00<00:04, 139.15it/s]"
     ]
    },
    {
     "name": "stdout",
     "output_type": "stream",
     "text": [
      "/Volumes/Shared/MAC/UCDenver_CSE/MachineLearning/Assignment5/dataset5/B/b/\n"
     ]
    },
    {
     "name": "stderr",
     "output_type": "stream",
     "text": [
      "100%|██████████| 576/576 [00:04<00:00, 140.41it/s]\n",
      "  0%|          | 0/548 [00:00<?, ?it/s]"
     ]
    },
    {
     "name": "stdout",
     "output_type": "stream",
     "text": [
      "/Volumes/Shared/MAC/UCDenver_CSE/MachineLearning/Assignment5/dataset5/B/c/\n"
     ]
    },
    {
     "name": "stderr",
     "output_type": "stream",
     "text": [
      "100%|██████████| 548/548 [00:05<00:00, 95.69it/s] \n",
      "  2%|▏         | 12/551 [00:00<00:04, 116.50it/s]"
     ]
    },
    {
     "name": "stdout",
     "output_type": "stream",
     "text": [
      "/Volumes/Shared/MAC/UCDenver_CSE/MachineLearning/Assignment5/dataset5/B/d/\n"
     ]
    },
    {
     "name": "stderr",
     "output_type": "stream",
     "text": [
      "100%|██████████| 551/551 [00:05<00:00, 97.57it/s]\n",
      "  2%|▏         | 12/564 [00:00<00:04, 118.18it/s]"
     ]
    },
    {
     "name": "stdout",
     "output_type": "stream",
     "text": [
      "/Volumes/Shared/MAC/UCDenver_CSE/MachineLearning/Assignment5/dataset5/B/e/\n"
     ]
    },
    {
     "name": "stderr",
     "output_type": "stream",
     "text": [
      "100%|██████████| 564/564 [00:05<00:00, 112.22it/s]\n",
      "  2%|▏         | 12/529 [00:00<00:04, 113.93it/s]"
     ]
    },
    {
     "name": "stdout",
     "output_type": "stream",
     "text": [
      "/Volumes/Shared/MAC/UCDenver_CSE/MachineLearning/Assignment5/dataset5/B/f/\n"
     ]
    },
    {
     "name": "stderr",
     "output_type": "stream",
     "text": [
      "100%|██████████| 529/529 [00:04<00:00, 127.72it/s]\n",
      "  2%|▏         | 10/543 [00:00<00:05, 98.88it/s]"
     ]
    },
    {
     "name": "stdout",
     "output_type": "stream",
     "text": [
      "/Volumes/Shared/MAC/UCDenver_CSE/MachineLearning/Assignment5/dataset5/B/g/\n"
     ]
    },
    {
     "name": "stderr",
     "output_type": "stream",
     "text": [
      "100%|██████████| 543/543 [00:05<00:00, 105.14it/s]\n",
      "  2%|▏         | 11/544 [00:00<00:04, 108.58it/s]"
     ]
    },
    {
     "name": "stdout",
     "output_type": "stream",
     "text": [
      "/Volumes/Shared/MAC/UCDenver_CSE/MachineLearning/Assignment5/dataset5/B/h/\n"
     ]
    },
    {
     "name": "stderr",
     "output_type": "stream",
     "text": [
      "100%|██████████| 544/544 [00:04<00:00, 117.98it/s]\n",
      "  0%|          | 0/542 [00:00<?, ?it/s]"
     ]
    },
    {
     "name": "stdout",
     "output_type": "stream",
     "text": [
      "/Volumes/Shared/MAC/UCDenver_CSE/MachineLearning/Assignment5/dataset5/B/i/\n"
     ]
    },
    {
     "name": "stderr",
     "output_type": "stream",
     "text": [
      "100%|██████████| 542/542 [00:05<00:00, 94.13it/s]\n",
      "  1%|          | 9/776 [00:00<00:08, 88.33it/s]"
     ]
    },
    {
     "name": "stdout",
     "output_type": "stream",
     "text": [
      "/Volumes/Shared/MAC/UCDenver_CSE/MachineLearning/Assignment5/dataset5/B/k/\n"
     ]
    },
    {
     "name": "stderr",
     "output_type": "stream",
     "text": [
      "100%|██████████| 776/776 [00:07<00:00, 107.93it/s]\n",
      "  1%|          | 7/576 [00:00<00:08, 66.15it/s]"
     ]
    },
    {
     "name": "stdout",
     "output_type": "stream",
     "text": [
      "/Volumes/Shared/MAC/UCDenver_CSE/MachineLearning/Assignment5/dataset5/B/l/\n"
     ]
    },
    {
     "name": "stderr",
     "output_type": "stream",
     "text": [
      "100%|██████████| 576/576 [00:09<00:00, 60.38it/s]\n",
      "  3%|▎         | 17/581 [00:00<00:03, 159.02it/s]"
     ]
    },
    {
     "name": "stdout",
     "output_type": "stream",
     "text": [
      "/Volumes/Shared/MAC/UCDenver_CSE/MachineLearning/Assignment5/dataset5/B/m/\n"
     ]
    },
    {
     "name": "stderr",
     "output_type": "stream",
     "text": [
      "100%|██████████| 581/581 [00:03<00:00, 147.02it/s]\n",
      "  2%|▏         | 12/543 [00:00<00:04, 119.51it/s]"
     ]
    },
    {
     "name": "stdout",
     "output_type": "stream",
     "text": [
      "/Volumes/Shared/MAC/UCDenver_CSE/MachineLearning/Assignment5/dataset5/B/n/\n"
     ]
    },
    {
     "name": "stderr",
     "output_type": "stream",
     "text": [
      "100%|██████████| 543/543 [00:03<00:00, 140.85it/s]\n",
      "  2%|▏         | 12/528 [00:00<00:04, 116.29it/s]"
     ]
    },
    {
     "name": "stdout",
     "output_type": "stream",
     "text": [
      "/Volumes/Shared/MAC/UCDenver_CSE/MachineLearning/Assignment5/dataset5/B/o/\n"
     ]
    },
    {
     "name": "stderr",
     "output_type": "stream",
     "text": [
      "100%|██████████| 528/528 [00:05<00:00, 101.61it/s]\n",
      "  2%|▏         | 11/641 [00:00<00:05, 106.50it/s]"
     ]
    },
    {
     "name": "stdout",
     "output_type": "stream",
     "text": [
      "/Volumes/Shared/MAC/UCDenver_CSE/MachineLearning/Assignment5/dataset5/B/p/\n"
     ]
    },
    {
     "name": "stderr",
     "output_type": "stream",
     "text": [
      "100%|██████████| 641/641 [00:06<00:00, 99.36it/s]\n",
      "  1%|▏         | 8/539 [00:00<00:06, 79.52it/s]"
     ]
    },
    {
     "name": "stdout",
     "output_type": "stream",
     "text": [
      "/Volumes/Shared/MAC/UCDenver_CSE/MachineLearning/Assignment5/dataset5/B/q/\n"
     ]
    },
    {
     "name": "stderr",
     "output_type": "stream",
     "text": [
      "100%|██████████| 539/539 [00:05<00:00, 93.17it/s]\n",
      "  2%|▏         | 13/549 [00:00<00:04, 125.40it/s]"
     ]
    },
    {
     "name": "stdout",
     "output_type": "stream",
     "text": [
      "/Volumes/Shared/MAC/UCDenver_CSE/MachineLearning/Assignment5/dataset5/B/r/\n"
     ]
    },
    {
     "name": "stderr",
     "output_type": "stream",
     "text": [
      "100%|██████████| 549/549 [00:04<00:00, 118.05it/s]\n",
      "  1%|▏         | 11/748 [00:00<00:06, 108.84it/s]"
     ]
    },
    {
     "name": "stdout",
     "output_type": "stream",
     "text": [
      "/Volumes/Shared/MAC/UCDenver_CSE/MachineLearning/Assignment5/dataset5/B/s/\n"
     ]
    },
    {
     "name": "stderr",
     "output_type": "stream",
     "text": [
      "100%|██████████| 748/748 [00:08<00:00, 92.73it/s]\n",
      "  3%|▎         | 13/513 [00:00<00:04, 122.03it/s]"
     ]
    },
    {
     "name": "stdout",
     "output_type": "stream",
     "text": [
      "/Volumes/Shared/MAC/UCDenver_CSE/MachineLearning/Assignment5/dataset5/B/t/\n"
     ]
    },
    {
     "name": "stderr",
     "output_type": "stream",
     "text": [
      "100%|██████████| 513/513 [00:05<00:00, 96.00it/s]\n",
      "  3%|▎         | 14/541 [00:00<00:03, 136.23it/s]"
     ]
    },
    {
     "name": "stdout",
     "output_type": "stream",
     "text": [
      "/Volumes/Shared/MAC/UCDenver_CSE/MachineLearning/Assignment5/dataset5/B/u/\n"
     ]
    },
    {
     "name": "stderr",
     "output_type": "stream",
     "text": [
      "100%|██████████| 541/541 [00:04<00:00, 124.71it/s]\n",
      "  2%|▏         | 12/627 [00:00<00:05, 118.39it/s]"
     ]
    },
    {
     "name": "stdout",
     "output_type": "stream",
     "text": [
      "/Volumes/Shared/MAC/UCDenver_CSE/MachineLearning/Assignment5/dataset5/B/v/\n"
     ]
    },
    {
     "name": "stderr",
     "output_type": "stream",
     "text": [
      "100%|██████████| 627/627 [00:06<00:00, 96.79it/s] \n",
      "  2%|▏         | 11/647 [00:00<00:05, 106.78it/s]"
     ]
    },
    {
     "name": "stdout",
     "output_type": "stream",
     "text": [
      "/Volumes/Shared/MAC/UCDenver_CSE/MachineLearning/Assignment5/dataset5/B/w/\n"
     ]
    },
    {
     "name": "stderr",
     "output_type": "stream",
     "text": [
      "100%|██████████| 647/647 [00:05<00:00, 121.48it/s]\n",
      "  2%|▏         | 13/621 [00:00<00:04, 128.05it/s]"
     ]
    },
    {
     "name": "stdout",
     "output_type": "stream",
     "text": [
      "/Volumes/Shared/MAC/UCDenver_CSE/MachineLearning/Assignment5/dataset5/B/x/\n"
     ]
    },
    {
     "name": "stderr",
     "output_type": "stream",
     "text": [
      "100%|██████████| 621/621 [00:04<00:00, 134.19it/s]\n",
      "  2%|▏         | 9/536 [00:00<00:06, 81.11it/s]"
     ]
    },
    {
     "name": "stdout",
     "output_type": "stream",
     "text": [
      "/Volumes/Shared/MAC/UCDenver_CSE/MachineLearning/Assignment5/dataset5/B/y/\n"
     ]
    },
    {
     "name": "stderr",
     "output_type": "stream",
     "text": [
      "100%|██████████| 536/536 [00:04<00:00, 107.67it/s]\n",
      "  2%|▏         | 9/523 [00:00<00:05, 88.65it/s]"
     ]
    },
    {
     "name": "stdout",
     "output_type": "stream",
     "text": [
      "/Volumes/Shared/MAC/UCDenver_CSE/MachineLearning/Assignment5/dataset5/C/a/\n"
     ]
    },
    {
     "name": "stderr",
     "output_type": "stream",
     "text": [
      "100%|██████████| 523/523 [00:04<00:00, 125.56it/s]\n",
      "  2%|▏         | 13/532 [00:00<00:04, 111.42it/s]"
     ]
    },
    {
     "name": "stdout",
     "output_type": "stream",
     "text": [
      "/Volumes/Shared/MAC/UCDenver_CSE/MachineLearning/Assignment5/dataset5/C/b/\n"
     ]
    },
    {
     "name": "stderr",
     "output_type": "stream",
     "text": [
      "100%|██████████| 532/532 [00:03<00:00, 134.79it/s]\n",
      "  1%|          | 9/742 [00:00<00:09, 80.32it/s]"
     ]
    },
    {
     "name": "stdout",
     "output_type": "stream",
     "text": [
      "/Volumes/Shared/MAC/UCDenver_CSE/MachineLearning/Assignment5/dataset5/C/c/\n"
     ]
    },
    {
     "name": "stderr",
     "output_type": "stream",
     "text": [
      "100%|██████████| 742/742 [00:07<00:00, 100.53it/s]\n",
      "  2%|▏         | 11/525 [00:00<00:04, 107.24it/s]"
     ]
    },
    {
     "name": "stdout",
     "output_type": "stream",
     "text": [
      "/Volumes/Shared/MAC/UCDenver_CSE/MachineLearning/Assignment5/dataset5/C/d/\n"
     ]
    },
    {
     "name": "stderr",
     "output_type": "stream",
     "text": [
      "100%|██████████| 525/525 [00:07<00:00, 72.39it/s]\n",
      "  2%|▏         | 12/528 [00:00<00:04, 111.59it/s]"
     ]
    },
    {
     "name": "stdout",
     "output_type": "stream",
     "text": [
      "/Volumes/Shared/MAC/UCDenver_CSE/MachineLearning/Assignment5/dataset5/C/e/\n"
     ]
    },
    {
     "name": "stderr",
     "output_type": "stream",
     "text": [
      "100%|██████████| 528/528 [00:06<00:00, 84.32it/s]\n",
      "  2%|▏         | 12/517 [00:00<00:04, 115.85it/s]"
     ]
    },
    {
     "name": "stdout",
     "output_type": "stream",
     "text": [
      "/Volumes/Shared/MAC/UCDenver_CSE/MachineLearning/Assignment5/dataset5/C/f/\n"
     ]
    },
    {
     "name": "stderr",
     "output_type": "stream",
     "text": [
      "100%|██████████| 517/517 [00:04<00:00, 109.88it/s]\n",
      "  2%|▏         | 10/531 [00:00<00:05, 92.78it/s]"
     ]
    },
    {
     "name": "stdout",
     "output_type": "stream",
     "text": [
      "/Volumes/Shared/MAC/UCDenver_CSE/MachineLearning/Assignment5/dataset5/C/g/\n"
     ]
    },
    {
     "name": "stderr",
     "output_type": "stream",
     "text": [
      "100%|██████████| 531/531 [00:06<00:00, 82.65it/s]\n",
      "  2%|▏         | 9/535 [00:00<00:06, 83.62it/s]"
     ]
    },
    {
     "name": "stdout",
     "output_type": "stream",
     "text": [
      "/Volumes/Shared/MAC/UCDenver_CSE/MachineLearning/Assignment5/dataset5/C/h/\n"
     ]
    },
    {
     "name": "stderr",
     "output_type": "stream",
     "text": [
      "100%|██████████| 535/535 [00:08<00:00, 65.56it/s]\n",
      "  2%|▏         | 11/529 [00:00<00:04, 103.97it/s]"
     ]
    },
    {
     "name": "stdout",
     "output_type": "stream",
     "text": [
      "/Volumes/Shared/MAC/UCDenver_CSE/MachineLearning/Assignment5/dataset5/C/i/\n"
     ]
    },
    {
     "name": "stderr",
     "output_type": "stream",
     "text": [
      "100%|██████████| 529/529 [00:06<00:00, 86.53it/s]\n",
      "  2%|▏         | 9/538 [00:00<00:06, 84.77it/s]"
     ]
    },
    {
     "name": "stdout",
     "output_type": "stream",
     "text": [
      "/Volumes/Shared/MAC/UCDenver_CSE/MachineLearning/Assignment5/dataset5/C/k/\n"
     ]
    },
    {
     "name": "stderr",
     "output_type": "stream",
     "text": [
      "100%|██████████| 538/538 [00:05<00:00, 99.90it/s] \n",
      "  1%|▏         | 8/585 [00:00<00:07, 74.74it/s]"
     ]
    },
    {
     "name": "stdout",
     "output_type": "stream",
     "text": [
      "/Volumes/Shared/MAC/UCDenver_CSE/MachineLearning/Assignment5/dataset5/C/l/\n"
     ]
    },
    {
     "name": "stderr",
     "output_type": "stream",
     "text": [
      "100%|██████████| 585/585 [00:09<00:00, 64.22it/s]\n",
      "  3%|▎         | 16/537 [00:00<00:03, 159.94it/s]"
     ]
    },
    {
     "name": "stdout",
     "output_type": "stream",
     "text": [
      "/Volumes/Shared/MAC/UCDenver_CSE/MachineLearning/Assignment5/dataset5/C/m/\n"
     ]
    },
    {
     "name": "stderr",
     "output_type": "stream",
     "text": [
      "100%|██████████| 537/537 [00:04<00:00, 111.42it/s]\n",
      "  2%|▏         | 12/563 [00:00<00:04, 119.22it/s]"
     ]
    },
    {
     "name": "stdout",
     "output_type": "stream",
     "text": [
      "/Volumes/Shared/MAC/UCDenver_CSE/MachineLearning/Assignment5/dataset5/C/n/\n"
     ]
    },
    {
     "name": "stderr",
     "output_type": "stream",
     "text": [
      "100%|██████████| 563/563 [00:04<00:00, 128.77it/s]\n",
      "  2%|▏         | 11/547 [00:00<00:05, 97.04it/s]"
     ]
    },
    {
     "name": "stdout",
     "output_type": "stream",
     "text": [
      "/Volumes/Shared/MAC/UCDenver_CSE/MachineLearning/Assignment5/dataset5/C/o/\n"
     ]
    },
    {
     "name": "stderr",
     "output_type": "stream",
     "text": [
      "100%|██████████| 547/547 [00:04<00:00, 120.81it/s]\n",
      "  3%|▎         | 16/533 [00:00<00:03, 155.88it/s]"
     ]
    },
    {
     "name": "stdout",
     "output_type": "stream",
     "text": [
      "/Volumes/Shared/MAC/UCDenver_CSE/MachineLearning/Assignment5/dataset5/C/p/\n"
     ]
    },
    {
     "name": "stderr",
     "output_type": "stream",
     "text": [
      "100%|██████████| 533/533 [00:04<00:00, 112.35it/s]\n",
      "  2%|▏         | 10/540 [00:00<00:05, 92.66it/s]"
     ]
    },
    {
     "name": "stdout",
     "output_type": "stream",
     "text": [
      "/Volumes/Shared/MAC/UCDenver_CSE/MachineLearning/Assignment5/dataset5/C/q/\n"
     ]
    },
    {
     "name": "stderr",
     "output_type": "stream",
     "text": [
      "100%|██████████| 540/540 [00:05<00:00, 103.77it/s]\n",
      "  2%|▏         | 10/529 [00:00<00:05, 92.88it/s]"
     ]
    },
    {
     "name": "stdout",
     "output_type": "stream",
     "text": [
      "/Volumes/Shared/MAC/UCDenver_CSE/MachineLearning/Assignment5/dataset5/C/r/\n"
     ]
    },
    {
     "name": "stderr",
     "output_type": "stream",
     "text": [
      "100%|██████████| 529/529 [00:05<00:00, 93.93it/s] \n",
      "  3%|▎         | 14/506 [00:00<00:03, 139.11it/s]"
     ]
    },
    {
     "name": "stdout",
     "output_type": "stream",
     "text": [
      "/Volumes/Shared/MAC/UCDenver_CSE/MachineLearning/Assignment5/dataset5/C/s/\n"
     ]
    },
    {
     "name": "stderr",
     "output_type": "stream",
     "text": [
      "100%|██████████| 506/506 [00:03<00:00, 135.46it/s]\n",
      "  0%|          | 0/528 [00:00<?, ?it/s]"
     ]
    },
    {
     "name": "stdout",
     "output_type": "stream",
     "text": [
      "/Volumes/Shared/MAC/UCDenver_CSE/MachineLearning/Assignment5/dataset5/C/t/\n"
     ]
    },
    {
     "name": "stderr",
     "output_type": "stream",
     "text": [
      "100%|██████████| 528/528 [00:04<00:00, 119.81it/s]\n",
      "  2%|▏         | 12/529 [00:00<00:04, 117.30it/s]"
     ]
    },
    {
     "name": "stdout",
     "output_type": "stream",
     "text": [
      "/Volumes/Shared/MAC/UCDenver_CSE/MachineLearning/Assignment5/dataset5/C/u/\n"
     ]
    },
    {
     "name": "stderr",
     "output_type": "stream",
     "text": [
      "100%|██████████| 529/529 [00:04<00:00, 120.72it/s]\n",
      "  2%|▏         | 10/535 [00:00<00:05, 95.57it/s]"
     ]
    },
    {
     "name": "stdout",
     "output_type": "stream",
     "text": [
      "/Volumes/Shared/MAC/UCDenver_CSE/MachineLearning/Assignment5/dataset5/C/v/\n"
     ]
    },
    {
     "name": "stderr",
     "output_type": "stream",
     "text": [
      "100%|██████████| 535/535 [00:04<00:00, 127.37it/s]\n",
      "  2%|▏         | 16/889 [00:00<00:05, 155.66it/s]"
     ]
    },
    {
     "name": "stdout",
     "output_type": "stream",
     "text": [
      "/Volumes/Shared/MAC/UCDenver_CSE/MachineLearning/Assignment5/dataset5/C/w/\n"
     ]
    },
    {
     "name": "stderr",
     "output_type": "stream",
     "text": [
      "100%|██████████| 889/889 [00:07<00:00, 124.49it/s]\n",
      "  2%|▏         | 12/530 [00:00<00:04, 113.89it/s]"
     ]
    },
    {
     "name": "stdout",
     "output_type": "stream",
     "text": [
      "/Volumes/Shared/MAC/UCDenver_CSE/MachineLearning/Assignment5/dataset5/C/x/\n"
     ]
    },
    {
     "name": "stderr",
     "output_type": "stream",
     "text": [
      "100%|██████████| 530/530 [00:05<00:00, 105.88it/s]\n",
      "  2%|▏         | 9/542 [00:00<00:06, 82.27it/s]"
     ]
    },
    {
     "name": "stdout",
     "output_type": "stream",
     "text": [
      "/Volumes/Shared/MAC/UCDenver_CSE/MachineLearning/Assignment5/dataset5/C/y/\n"
     ]
    },
    {
     "name": "stderr",
     "output_type": "stream",
     "text": [
      "100%|██████████| 542/542 [00:06<00:00, 80.83it/s]\n",
      "  2%|▏         | 13/546 [00:00<00:04, 124.34it/s]"
     ]
    },
    {
     "name": "stdout",
     "output_type": "stream",
     "text": [
      "/Volumes/Shared/MAC/UCDenver_CSE/MachineLearning/Assignment5/dataset5/D/a/\n"
     ]
    },
    {
     "name": "stderr",
     "output_type": "stream",
     "text": [
      "100%|██████████| 546/546 [00:04<00:00, 123.55it/s]\n",
      "  2%|▏         | 12/571 [00:00<00:05, 109.18it/s]"
     ]
    },
    {
     "name": "stdout",
     "output_type": "stream",
     "text": [
      "/Volumes/Shared/MAC/UCDenver_CSE/MachineLearning/Assignment5/dataset5/D/b/\n"
     ]
    },
    {
     "name": "stderr",
     "output_type": "stream",
     "text": [
      "100%|██████████| 571/571 [00:03<00:00, 146.12it/s]\n",
      "  3%|▎         | 14/530 [00:00<00:03, 135.99it/s]"
     ]
    },
    {
     "name": "stdout",
     "output_type": "stream",
     "text": [
      "/Volumes/Shared/MAC/UCDenver_CSE/MachineLearning/Assignment5/dataset5/D/c/\n"
     ]
    },
    {
     "name": "stderr",
     "output_type": "stream",
     "text": [
      "100%|██████████| 530/530 [00:03<00:00, 160.12it/s]\n",
      "  2%|▏         | 11/525 [00:00<00:04, 105.47it/s]"
     ]
    },
    {
     "name": "stdout",
     "output_type": "stream",
     "text": [
      "/Volumes/Shared/MAC/UCDenver_CSE/MachineLearning/Assignment5/dataset5/D/d/\n"
     ]
    },
    {
     "name": "stderr",
     "output_type": "stream",
     "text": [
      "100%|██████████| 525/525 [00:05<00:00, 104.16it/s]\n",
      "  2%|▏         | 12/527 [00:00<00:04, 112.54it/s]"
     ]
    },
    {
     "name": "stdout",
     "output_type": "stream",
     "text": [
      "/Volumes/Shared/MAC/UCDenver_CSE/MachineLearning/Assignment5/dataset5/D/e/\n"
     ]
    },
    {
     "name": "stderr",
     "output_type": "stream",
     "text": [
      "100%|██████████| 527/527 [00:04<00:00, 125.02it/s]\n",
      "  2%|▏         | 8/524 [00:00<00:06, 79.45it/s]"
     ]
    },
    {
     "name": "stdout",
     "output_type": "stream",
     "text": [
      "/Volumes/Shared/MAC/UCDenver_CSE/MachineLearning/Assignment5/dataset5/D/f/\n"
     ]
    },
    {
     "name": "stderr",
     "output_type": "stream",
     "text": [
      "100%|██████████| 524/524 [00:06<00:00, 80.34it/s]\n",
      "  2%|▏         | 9/541 [00:00<00:06, 78.99it/s]"
     ]
    },
    {
     "name": "stdout",
     "output_type": "stream",
     "text": [
      "/Volumes/Shared/MAC/UCDenver_CSE/MachineLearning/Assignment5/dataset5/D/g/\n"
     ]
    },
    {
     "name": "stderr",
     "output_type": "stream",
     "text": [
      "100%|██████████| 541/541 [00:08<00:00, 63.97it/s]\n",
      "  1%|          | 6/561 [00:00<00:09, 55.73it/s]"
     ]
    },
    {
     "name": "stdout",
     "output_type": "stream",
     "text": [
      "/Volumes/Shared/MAC/UCDenver_CSE/MachineLearning/Assignment5/dataset5/D/h/\n"
     ]
    },
    {
     "name": "stderr",
     "output_type": "stream",
     "text": [
      "100%|██████████| 561/561 [00:09<00:00, 60.51it/s]\n",
      "  2%|▏         | 9/521 [00:00<00:05, 89.39it/s]"
     ]
    },
    {
     "name": "stdout",
     "output_type": "stream",
     "text": [
      "/Volumes/Shared/MAC/UCDenver_CSE/MachineLearning/Assignment5/dataset5/D/i/\n"
     ]
    },
    {
     "name": "stderr",
     "output_type": "stream",
     "text": [
      "100%|██████████| 521/521 [00:05<00:00, 102.13it/s]\n",
      "  2%|▏         | 9/539 [00:00<00:06, 81.61it/s]"
     ]
    },
    {
     "name": "stdout",
     "output_type": "stream",
     "text": [
      "/Volumes/Shared/MAC/UCDenver_CSE/MachineLearning/Assignment5/dataset5/D/k/\n"
     ]
    },
    {
     "name": "stderr",
     "output_type": "stream",
     "text": [
      "100%|██████████| 539/539 [00:07<00:00, 75.88it/s]\n",
      "  1%|▏         | 8/564 [00:00<00:07, 75.99it/s]"
     ]
    },
    {
     "name": "stdout",
     "output_type": "stream",
     "text": [
      "/Volumes/Shared/MAC/UCDenver_CSE/MachineLearning/Assignment5/dataset5/D/l/\n"
     ]
    },
    {
     "name": "stderr",
     "output_type": "stream",
     "text": [
      "100%|██████████| 564/564 [00:07<00:00, 78.50it/s]\n",
      "  2%|▏         | 13/541 [00:00<00:04, 123.74it/s]"
     ]
    },
    {
     "name": "stdout",
     "output_type": "stream",
     "text": [
      "/Volumes/Shared/MAC/UCDenver_CSE/MachineLearning/Assignment5/dataset5/D/m/\n"
     ]
    },
    {
     "name": "stderr",
     "output_type": "stream",
     "text": [
      "100%|██████████| 541/541 [00:04<00:00, 135.14it/s]\n",
      "  2%|▏         | 13/529 [00:00<00:04, 120.16it/s]"
     ]
    },
    {
     "name": "stdout",
     "output_type": "stream",
     "text": [
      "/Volumes/Shared/MAC/UCDenver_CSE/MachineLearning/Assignment5/dataset5/D/n/\n"
     ]
    },
    {
     "name": "stderr",
     "output_type": "stream",
     "text": [
      "100%|██████████| 529/529 [00:04<00:00, 131.19it/s]\n",
      "  2%|▏         | 12/538 [00:00<00:04, 119.23it/s]"
     ]
    },
    {
     "name": "stdout",
     "output_type": "stream",
     "text": [
      "/Volumes/Shared/MAC/UCDenver_CSE/MachineLearning/Assignment5/dataset5/D/o/\n"
     ]
    },
    {
     "name": "stderr",
     "output_type": "stream",
     "text": [
      "100%|██████████| 538/538 [00:04<00:00, 128.94it/s]\n",
      "  3%|▎         | 18/531 [00:00<00:02, 177.63it/s]"
     ]
    },
    {
     "name": "stdout",
     "output_type": "stream",
     "text": [
      "/Volumes/Shared/MAC/UCDenver_CSE/MachineLearning/Assignment5/dataset5/D/p/\n"
     ]
    },
    {
     "name": "stderr",
     "output_type": "stream",
     "text": [
      "100%|██████████| 531/531 [00:03<00:00, 159.75it/s]\n",
      "  3%|▎         | 15/549 [00:00<00:03, 148.68it/s]"
     ]
    },
    {
     "name": "stdout",
     "output_type": "stream",
     "text": [
      "/Volumes/Shared/MAC/UCDenver_CSE/MachineLearning/Assignment5/dataset5/D/q/\n"
     ]
    },
    {
     "name": "stderr",
     "output_type": "stream",
     "text": [
      "100%|██████████| 549/549 [00:03<00:00, 158.11it/s]\n",
      "  2%|▏         | 14/773 [00:00<00:05, 132.30it/s]"
     ]
    },
    {
     "name": "stdout",
     "output_type": "stream",
     "text": [
      "/Volumes/Shared/MAC/UCDenver_CSE/MachineLearning/Assignment5/dataset5/D/r/\n"
     ]
    },
    {
     "name": "stderr",
     "output_type": "stream",
     "text": [
      "100%|██████████| 773/773 [00:06<00:00, 117.68it/s]\n",
      "  3%|▎         | 14/534 [00:00<00:03, 139.48it/s]"
     ]
    },
    {
     "name": "stdout",
     "output_type": "stream",
     "text": [
      "/Volumes/Shared/MAC/UCDenver_CSE/MachineLearning/Assignment5/dataset5/D/s/\n"
     ]
    },
    {
     "name": "stderr",
     "output_type": "stream",
     "text": [
      "100%|██████████| 534/534 [00:03<00:00, 149.98it/s]\n",
      "  2%|▏         | 12/529 [00:00<00:04, 116.68it/s]"
     ]
    },
    {
     "name": "stdout",
     "output_type": "stream",
     "text": [
      "/Volumes/Shared/MAC/UCDenver_CSE/MachineLearning/Assignment5/dataset5/D/t/\n"
     ]
    },
    {
     "name": "stderr",
     "output_type": "stream",
     "text": [
      "100%|██████████| 529/529 [00:03<00:00, 139.64it/s]\n",
      "  2%|▏         | 12/531 [00:00<00:04, 111.04it/s]"
     ]
    },
    {
     "name": "stdout",
     "output_type": "stream",
     "text": [
      "/Volumes/Shared/MAC/UCDenver_CSE/MachineLearning/Assignment5/dataset5/D/u/\n"
     ]
    },
    {
     "name": "stderr",
     "output_type": "stream",
     "text": [
      "100%|██████████| 531/531 [00:04<00:00, 124.35it/s]\n",
      "  2%|▏         | 11/543 [00:00<00:04, 109.48it/s]"
     ]
    },
    {
     "name": "stdout",
     "output_type": "stream",
     "text": [
      "/Volumes/Shared/MAC/UCDenver_CSE/MachineLearning/Assignment5/dataset5/D/v/\n"
     ]
    },
    {
     "name": "stderr",
     "output_type": "stream",
     "text": [
      "100%|██████████| 543/543 [00:04<00:00, 109.07it/s]\n",
      "  2%|▏         | 9/535 [00:00<00:06, 76.67it/s]"
     ]
    },
    {
     "name": "stdout",
     "output_type": "stream",
     "text": [
      "/Volumes/Shared/MAC/UCDenver_CSE/MachineLearning/Assignment5/dataset5/D/w/\n"
     ]
    },
    {
     "name": "stderr",
     "output_type": "stream",
     "text": [
      "100%|██████████| 535/535 [00:04<00:00, 113.10it/s]\n",
      "  3%|▎         | 15/537 [00:00<00:03, 145.27it/s]"
     ]
    },
    {
     "name": "stdout",
     "output_type": "stream",
     "text": [
      "/Volumes/Shared/MAC/UCDenver_CSE/MachineLearning/Assignment5/dataset5/D/x/\n"
     ]
    },
    {
     "name": "stderr",
     "output_type": "stream",
     "text": [
      "100%|██████████| 537/537 [00:03<00:00, 150.21it/s]\n",
      "  0%|          | 0/535 [00:00<?, ?it/s]"
     ]
    },
    {
     "name": "stdout",
     "output_type": "stream",
     "text": [
      "/Volumes/Shared/MAC/UCDenver_CSE/MachineLearning/Assignment5/dataset5/D/y/\n"
     ]
    },
    {
     "name": "stderr",
     "output_type": "stream",
     "text": [
      "100%|██████████| 535/535 [00:06<00:00, 87.69it/s]\n",
      "  3%|▎         | 14/545 [00:00<00:03, 135.11it/s]"
     ]
    },
    {
     "name": "stdout",
     "output_type": "stream",
     "text": [
      "/Volumes/Shared/MAC/UCDenver_CSE/MachineLearning/Assignment5/dataset5/E/a/\n"
     ]
    },
    {
     "name": "stderr",
     "output_type": "stream",
     "text": [
      "100%|██████████| 545/545 [00:03<00:00, 143.96it/s]\n",
      "  3%|▎         | 16/534 [00:00<00:03, 153.65it/s]"
     ]
    },
    {
     "name": "stdout",
     "output_type": "stream",
     "text": [
      "/Volumes/Shared/MAC/UCDenver_CSE/MachineLearning/Assignment5/dataset5/E/b/\n"
     ]
    },
    {
     "name": "stderr",
     "output_type": "stream",
     "text": [
      "100%|██████████| 534/534 [00:03<00:00, 155.70it/s]\n",
      "  3%|▎         | 16/540 [00:00<00:03, 152.55it/s]"
     ]
    },
    {
     "name": "stdout",
     "output_type": "stream",
     "text": [
      "/Volumes/Shared/MAC/UCDenver_CSE/MachineLearning/Assignment5/dataset5/E/c/\n"
     ]
    },
    {
     "name": "stderr",
     "output_type": "stream",
     "text": [
      "100%|██████████| 540/540 [00:04<00:00, 125.52it/s]\n",
      "  2%|▏         | 12/544 [00:00<00:04, 115.70it/s]"
     ]
    },
    {
     "name": "stdout",
     "output_type": "stream",
     "text": [
      "/Volumes/Shared/MAC/UCDenver_CSE/MachineLearning/Assignment5/dataset5/E/d/\n"
     ]
    },
    {
     "name": "stderr",
     "output_type": "stream",
     "text": [
      "100%|██████████| 544/544 [00:05<00:00, 95.41it/s]\n",
      "  2%|▏         | 13/539 [00:00<00:04, 124.81it/s]"
     ]
    },
    {
     "name": "stdout",
     "output_type": "stream",
     "text": [
      "/Volumes/Shared/MAC/UCDenver_CSE/MachineLearning/Assignment5/dataset5/E/e/\n"
     ]
    },
    {
     "name": "stderr",
     "output_type": "stream",
     "text": [
      "100%|██████████| 539/539 [00:04<00:00, 128.45it/s]\n",
      "  2%|▏         | 12/527 [00:00<00:04, 112.75it/s]"
     ]
    },
    {
     "name": "stdout",
     "output_type": "stream",
     "text": [
      "/Volumes/Shared/MAC/UCDenver_CSE/MachineLearning/Assignment5/dataset5/E/f/\n"
     ]
    },
    {
     "name": "stderr",
     "output_type": "stream",
     "text": [
      "100%|██████████| 527/527 [00:05<00:00, 92.36it/s]\n",
      "  2%|▏         | 9/537 [00:00<00:06, 84.65it/s]"
     ]
    },
    {
     "name": "stdout",
     "output_type": "stream",
     "text": [
      "/Volumes/Shared/MAC/UCDenver_CSE/MachineLearning/Assignment5/dataset5/E/g/\n"
     ]
    },
    {
     "name": "stderr",
     "output_type": "stream",
     "text": [
      "100%|██████████| 537/537 [00:06<00:00, 82.65it/s]\n",
      "  1%|▏         | 7/534 [00:00<00:08, 62.99it/s]"
     ]
    },
    {
     "name": "stdout",
     "output_type": "stream",
     "text": [
      "/Volumes/Shared/MAC/UCDenver_CSE/MachineLearning/Assignment5/dataset5/E/h/\n"
     ]
    },
    {
     "name": "stderr",
     "output_type": "stream",
     "text": [
      "100%|██████████| 534/534 [00:08<00:00, 62.70it/s]\n",
      "  2%|▏         | 11/525 [00:00<00:04, 104.49it/s]"
     ]
    },
    {
     "name": "stdout",
     "output_type": "stream",
     "text": [
      "/Volumes/Shared/MAC/UCDenver_CSE/MachineLearning/Assignment5/dataset5/E/i/\n"
     ]
    },
    {
     "name": "stderr",
     "output_type": "stream",
     "text": [
      "100%|██████████| 525/525 [00:06<00:00, 79.26it/s]\n",
      "  2%|▏         | 13/569 [00:00<00:04, 129.10it/s]"
     ]
    },
    {
     "name": "stdout",
     "output_type": "stream",
     "text": [
      "/Volumes/Shared/MAC/UCDenver_CSE/MachineLearning/Assignment5/dataset5/E/k/\n"
     ]
    },
    {
     "name": "stderr",
     "output_type": "stream",
     "text": [
      "100%|██████████| 569/569 [00:05<00:00, 111.75it/s]\n",
      "  2%|▏         | 8/514 [00:00<00:06, 78.09it/s]"
     ]
    },
    {
     "name": "stdout",
     "output_type": "stream",
     "text": [
      "/Volumes/Shared/MAC/UCDenver_CSE/MachineLearning/Assignment5/dataset5/E/l/\n"
     ]
    },
    {
     "name": "stderr",
     "output_type": "stream",
     "text": [
      "100%|██████████| 514/514 [00:07<00:00, 67.16it/s]\n",
      "  2%|▏         | 13/525 [00:00<00:04, 125.20it/s]"
     ]
    },
    {
     "name": "stdout",
     "output_type": "stream",
     "text": [
      "/Volumes/Shared/MAC/UCDenver_CSE/MachineLearning/Assignment5/dataset5/E/m/\n"
     ]
    },
    {
     "name": "stderr",
     "output_type": "stream",
     "text": [
      "100%|██████████| 525/525 [00:03<00:00, 135.93it/s]\n",
      "  2%|▏         | 13/530 [00:00<00:04, 126.46it/s]"
     ]
    },
    {
     "name": "stdout",
     "output_type": "stream",
     "text": [
      "/Volumes/Shared/MAC/UCDenver_CSE/MachineLearning/Assignment5/dataset5/E/n/\n"
     ]
    },
    {
     "name": "stderr",
     "output_type": "stream",
     "text": [
      "100%|██████████| 530/530 [00:04<00:00, 125.70it/s]\n",
      "  2%|▏         | 8/532 [00:00<00:06, 77.34it/s]"
     ]
    },
    {
     "name": "stdout",
     "output_type": "stream",
     "text": [
      "/Volumes/Shared/MAC/UCDenver_CSE/MachineLearning/Assignment5/dataset5/E/o/\n"
     ]
    },
    {
     "name": "stderr",
     "output_type": "stream",
     "text": [
      "100%|██████████| 532/532 [00:04<00:00, 108.67it/s]\n",
      "  2%|▏         | 13/527 [00:00<00:04, 124.80it/s]"
     ]
    },
    {
     "name": "stdout",
     "output_type": "stream",
     "text": [
      "/Volumes/Shared/MAC/UCDenver_CSE/MachineLearning/Assignment5/dataset5/E/p/\n"
     ]
    },
    {
     "name": "stderr",
     "output_type": "stream",
     "text": [
      "100%|██████████| 527/527 [00:03<00:00, 139.41it/s]\n",
      "  2%|▏         | 10/529 [00:00<00:05, 94.70it/s]"
     ]
    },
    {
     "name": "stdout",
     "output_type": "stream",
     "text": [
      "/Volumes/Shared/MAC/UCDenver_CSE/MachineLearning/Assignment5/dataset5/E/q/\n"
     ]
    },
    {
     "name": "stderr",
     "output_type": "stream",
     "text": [
      "100%|██████████| 529/529 [00:04<00:00, 130.18it/s]\n",
      "  2%|▏         | 14/562 [00:00<00:04, 132.05it/s]"
     ]
    },
    {
     "name": "stdout",
     "output_type": "stream",
     "text": [
      "/Volumes/Shared/MAC/UCDenver_CSE/MachineLearning/Assignment5/dataset5/E/r/\n"
     ]
    },
    {
     "name": "stderr",
     "output_type": "stream",
     "text": [
      "100%|██████████| 562/562 [00:04<00:00, 130.36it/s]\n",
      "  3%|▎         | 14/526 [00:00<00:03, 134.30it/s]"
     ]
    },
    {
     "name": "stdout",
     "output_type": "stream",
     "text": [
      "/Volumes/Shared/MAC/UCDenver_CSE/MachineLearning/Assignment5/dataset5/E/s/\n"
     ]
    },
    {
     "name": "stderr",
     "output_type": "stream",
     "text": [
      "100%|██████████| 526/526 [00:04<00:00, 129.97it/s]\n",
      "  2%|▏         | 12/531 [00:00<00:04, 117.62it/s]"
     ]
    },
    {
     "name": "stdout",
     "output_type": "stream",
     "text": [
      "/Volumes/Shared/MAC/UCDenver_CSE/MachineLearning/Assignment5/dataset5/E/t/\n"
     ]
    },
    {
     "name": "stderr",
     "output_type": "stream",
     "text": [
      "100%|██████████| 531/531 [00:04<00:00, 123.11it/s]\n",
      "  2%|▏         | 12/529 [00:00<00:04, 117.55it/s]"
     ]
    },
    {
     "name": "stdout",
     "output_type": "stream",
     "text": [
      "/Volumes/Shared/MAC/UCDenver_CSE/MachineLearning/Assignment5/dataset5/E/u/\n"
     ]
    },
    {
     "name": "stderr",
     "output_type": "stream",
     "text": [
      "100%|██████████| 529/529 [00:03<00:00, 137.14it/s]\n",
      "  2%|▏         | 10/527 [00:00<00:05, 96.64it/s]"
     ]
    },
    {
     "name": "stdout",
     "output_type": "stream",
     "text": [
      "/Volumes/Shared/MAC/UCDenver_CSE/MachineLearning/Assignment5/dataset5/E/v/\n"
     ]
    },
    {
     "name": "stderr",
     "output_type": "stream",
     "text": [
      "100%|██████████| 527/527 [00:04<00:00, 120.39it/s]\n",
      "  3%|▎         | 13/513 [00:00<00:04, 117.06it/s]"
     ]
    },
    {
     "name": "stdout",
     "output_type": "stream",
     "text": [
      "/Volumes/Shared/MAC/UCDenver_CSE/MachineLearning/Assignment5/dataset5/E/w/\n"
     ]
    },
    {
     "name": "stderr",
     "output_type": "stream",
     "text": [
      "100%|██████████| 513/513 [00:04<00:00, 115.96it/s]\n",
      "  2%|▏         | 13/522 [00:00<00:04, 122.92it/s]"
     ]
    },
    {
     "name": "stdout",
     "output_type": "stream",
     "text": [
      "/Volumes/Shared/MAC/UCDenver_CSE/MachineLearning/Assignment5/dataset5/E/x/\n"
     ]
    },
    {
     "name": "stderr",
     "output_type": "stream",
     "text": [
      "100%|██████████| 522/522 [00:05<00:00, 101.13it/s]\n",
      "  2%|▏         | 8/521 [00:00<00:07, 70.39it/s]"
     ]
    },
    {
     "name": "stdout",
     "output_type": "stream",
     "text": [
      "/Volumes/Shared/MAC/UCDenver_CSE/MachineLearning/Assignment5/dataset5/E/y/\n"
     ]
    },
    {
     "name": "stderr",
     "output_type": "stream",
     "text": [
      "100%|██████████| 521/521 [00:07<00:00, 72.38it/s]\n"
     ]
    },
    {
     "name": "stdout",
     "output_type": "stream",
     "text": [
      "(65774, 32, 32, 1)\n",
      "(65774, 24)\n"
     ]
    }
   ],
   "source": [
    "user_folders = 'ABCDE'\n",
    "letters = 'ABCDEFGHIKLMNOPQRSTUVWXY' #J & Z not included\n",
    "labels = []\n",
    "\n",
    "def to_tf_format(imgs):\n",
    "    return np.stack([img[:, :, np.newaxis] for img in imgs], axis=0).astype(np.float32)\n",
    "\n",
    "def read_dataset(rootpath, n_labels, folder_labels, resize_to):\n",
    "    image_hand = []\n",
    "    for i in range(folder_labels):\n",
    "        for j in range(n_labels):\n",
    "            full_path = rootpath + '/' + user_folders[i] + '/' + letters[j].lower() + '/'\n",
    "            print(full_path)\n",
    "            for img_name in tqdm(glob.glob(full_path + \"color*.png\")):\n",
    "                img = cv2.imread(img_name,cv2.IMREAD_COLOR)\n",
    "                img = rgb2lab(img / 255.0)[:,:,0]\n",
    "                img = resize(img, resize_to, mode='reflect')\n",
    "                label = np.zeros((n_labels, ), dtype=np.float32)\n",
    "                label[j] = 1.0\n",
    "                image_hand.append(img.astype(np.float32))\n",
    "                labels.append(label)\n",
    "    return Dataset(X = to_tf_format(image_hand).astype(np.float32),\n",
    "                 y = np.matrix(labels).astype(np.float32))\n",
    "\n",
    "dataset = read_dataset('/Volumes/Shared/MAC/UCDenver_CSE/MachineLearning/Assignment5/dataset5', N_LABELS, FOLDER_LABELS, RESIZED_IMAGE)\n",
    "print(dataset.X.shape)\n",
    "print(dataset.y.shape)"
   ]
  },
  {
   "cell_type": "code",
   "execution_count": 4,
   "metadata": {},
   "outputs": [
    {
     "data": {
      "text/plain": [
       "array([[[[98.104065  ],\n",
       "         [98.098625  ],\n",
       "         [98.098625  ],\n",
       "         ...,\n",
       "         [12.979625  ],\n",
       "         [12.529243  ],\n",
       "         [11.892953  ]],\n",
       "\n",
       "        [[98.499245  ],\n",
       "         [98.15668   ],\n",
       "         [98.098625  ],\n",
       "         ...,\n",
       "         [12.987052  ],\n",
       "         [10.284325  ],\n",
       "         [10.616434  ]],\n",
       "\n",
       "        [[68.483696  ],\n",
       "         [92.4381    ],\n",
       "         [98.481346  ],\n",
       "         ...,\n",
       "         [13.38737   ],\n",
       "         [12.460926  ],\n",
       "         [10.909865  ]],\n",
       "\n",
       "        ...,\n",
       "\n",
       "        [[50.556686  ],\n",
       "         [46.61576   ],\n",
       "         [80.89136   ],\n",
       "         ...,\n",
       "         [25.416695  ],\n",
       "         [20.714518  ],\n",
       "         [12.260627  ]],\n",
       "\n",
       "        [[43.203632  ],\n",
       "         [78.820206  ],\n",
       "         [81.55344   ],\n",
       "         ...,\n",
       "         [25.52397   ],\n",
       "         [27.593136  ],\n",
       "         [17.15525   ]],\n",
       "\n",
       "        [[75.28181   ],\n",
       "         [86.70094   ],\n",
       "         [85.75015   ],\n",
       "         ...,\n",
       "         [26.23138   ],\n",
       "         [28.339382  ],\n",
       "         [38.773453  ]]],\n",
       "\n",
       "\n",
       "       [[[23.724974  ],\n",
       "         [14.801553  ],\n",
       "         [78.785324  ],\n",
       "         ...,\n",
       "         [11.1593275 ],\n",
       "         [16.107042  ],\n",
       "         [21.53934   ]],\n",
       "\n",
       "        [[16.264318  ],\n",
       "         [15.56014   ],\n",
       "         [13.221962  ],\n",
       "         ...,\n",
       "         [10.7972355 ],\n",
       "         [ 8.618905  ],\n",
       "         [ 6.9862466 ]],\n",
       "\n",
       "        [[10.860249  ],\n",
       "         [12.426274  ],\n",
       "         [16.81366   ],\n",
       "         ...,\n",
       "         [ 9.361232  ],\n",
       "         [ 7.712543  ],\n",
       "         [ 7.453639  ]],\n",
       "\n",
       "        ...,\n",
       "\n",
       "        [[40.067417  ],\n",
       "         [41.218113  ],\n",
       "         [40.669353  ],\n",
       "         ...,\n",
       "         [31.65499   ],\n",
       "         [16.10382   ],\n",
       "         [13.539982  ]],\n",
       "\n",
       "        [[42.284218  ],\n",
       "         [45.605118  ],\n",
       "         [32.96247   ],\n",
       "         ...,\n",
       "         [35.96691   ],\n",
       "         [23.6691    ],\n",
       "         [12.328764  ]],\n",
       "\n",
       "        [[50.15718   ],\n",
       "         [48.66354   ],\n",
       "         [65.24832   ],\n",
       "         ...,\n",
       "         [31.505674  ],\n",
       "         [34.848263  ],\n",
       "         [17.903103  ]]],\n",
       "\n",
       "\n",
       "       [[[21.59978   ],\n",
       "         [13.209579  ],\n",
       "         [84.155594  ],\n",
       "         ...,\n",
       "         [ 9.93495   ],\n",
       "         [22.987247  ],\n",
       "         [20.717722  ]],\n",
       "\n",
       "        [[15.210443  ],\n",
       "         [15.53056   ],\n",
       "         [15.38267   ],\n",
       "         ...,\n",
       "         [ 9.589324  ],\n",
       "         [10.048059  ],\n",
       "         [ 7.651405  ]],\n",
       "\n",
       "        [[10.918629  ],\n",
       "         [11.216368  ],\n",
       "         [17.776503  ],\n",
       "         ...,\n",
       "         [ 7.731908  ],\n",
       "         [ 8.539624  ],\n",
       "         [ 9.452547  ]],\n",
       "\n",
       "        ...,\n",
       "\n",
       "        [[41.465893  ],\n",
       "         [43.812405  ],\n",
       "         [38.09785   ],\n",
       "         ...,\n",
       "         [20.46164   ],\n",
       "         [12.511692  ],\n",
       "         [ 9.2655325 ]],\n",
       "\n",
       "        [[48.02741   ],\n",
       "         [48.60905   ],\n",
       "         [57.830772  ],\n",
       "         ...,\n",
       "         [34.357754  ],\n",
       "         [18.658537  ],\n",
       "         [ 6.1206827 ]],\n",
       "\n",
       "        [[52.76146   ],\n",
       "         [73.0965    ],\n",
       "         [79.35094   ],\n",
       "         ...,\n",
       "         [32.962547  ],\n",
       "         [40.611565  ],\n",
       "         [56.086407  ]]],\n",
       "\n",
       "\n",
       "       ...,\n",
       "\n",
       "\n",
       "       [[[81.078705  ],\n",
       "         [87.54168   ],\n",
       "         [93.54094   ],\n",
       "         ...,\n",
       "         [30.085924  ],\n",
       "         [26.150032  ],\n",
       "         [25.535862  ]],\n",
       "\n",
       "        [[46.49923   ],\n",
       "         [33.98758   ],\n",
       "         [25.90137   ],\n",
       "         ...,\n",
       "         [25.535454  ],\n",
       "         [23.656637  ],\n",
       "         [21.464188  ]],\n",
       "\n",
       "        [[41.020363  ],\n",
       "         [41.521713  ],\n",
       "         [41.5559    ],\n",
       "         ...,\n",
       "         [25.212452  ],\n",
       "         [23.417004  ],\n",
       "         [21.033518  ]],\n",
       "\n",
       "        ...,\n",
       "\n",
       "        [[11.98469   ],\n",
       "         [ 4.995673  ],\n",
       "         [ 7.7839875 ],\n",
       "         ...,\n",
       "         [ 9.691957  ],\n",
       "         [17.777487  ],\n",
       "         [19.708635  ]],\n",
       "\n",
       "        [[ 1.8739623 ],\n",
       "         [ 1.7851588 ],\n",
       "         [ 7.7075667 ],\n",
       "         ...,\n",
       "         [ 8.742756  ],\n",
       "         [16.869675  ],\n",
       "         [13.839133  ]],\n",
       "\n",
       "        [[ 0.9294281 ],\n",
       "         [ 1.1227843 ],\n",
       "         [ 5.6473565 ],\n",
       "         ...,\n",
       "         [ 7.853489  ],\n",
       "         [14.3981695 ],\n",
       "         [66.30456   ]]],\n",
       "\n",
       "\n",
       "       [[[30.656704  ],\n",
       "         [60.491848  ],\n",
       "         [59.41799   ],\n",
       "         ...,\n",
       "         [18.766382  ],\n",
       "         [17.873606  ],\n",
       "         [17.866999  ]],\n",
       "\n",
       "        [[26.619678  ],\n",
       "         [34.263954  ],\n",
       "         [48.986565  ],\n",
       "         ...,\n",
       "         [16.255829  ],\n",
       "         [17.944496  ],\n",
       "         [15.574278  ]],\n",
       "\n",
       "        [[19.153181  ],\n",
       "         [41.498672  ],\n",
       "         [38.655964  ],\n",
       "         ...,\n",
       "         [17.710154  ],\n",
       "         [16.940256  ],\n",
       "         [18.129393  ]],\n",
       "\n",
       "        ...,\n",
       "\n",
       "        [[12.453617  ],\n",
       "         [ 8.130247  ],\n",
       "         [ 8.081949  ],\n",
       "         ...,\n",
       "         [58.829987  ],\n",
       "         [62.833595  ],\n",
       "         [59.701378  ]],\n",
       "\n",
       "        [[11.097094  ],\n",
       "         [ 9.772096  ],\n",
       "         [ 7.8527226 ],\n",
       "         ...,\n",
       "         [16.467316  ],\n",
       "         [17.308517  ],\n",
       "         [16.425262  ]],\n",
       "\n",
       "        [[11.270978  ],\n",
       "         [10.890275  ],\n",
       "         [ 8.748285  ],\n",
       "         ...,\n",
       "         [15.326452  ],\n",
       "         [18.96124   ],\n",
       "         [14.427858  ]]],\n",
       "\n",
       "\n",
       "       [[[62.535965  ],\n",
       "         [58.844826  ],\n",
       "         [57.181156  ],\n",
       "         ...,\n",
       "         [18.780638  ],\n",
       "         [17.996387  ],\n",
       "         [26.163721  ]],\n",
       "\n",
       "        [[63.169914  ],\n",
       "         [58.58089   ],\n",
       "         [56.344627  ],\n",
       "         ...,\n",
       "         [17.070282  ],\n",
       "         [12.419919  ],\n",
       "         [ 7.2202106 ]],\n",
       "\n",
       "        [[62.455532  ],\n",
       "         [58.854626  ],\n",
       "         [52.60491   ],\n",
       "         ...,\n",
       "         [17.033854  ],\n",
       "         [15.103366  ],\n",
       "         [14.376782  ]],\n",
       "\n",
       "        ...,\n",
       "\n",
       "        [[ 1.1073614 ],\n",
       "         [ 1.2708248 ],\n",
       "         [ 0.94643295],\n",
       "         ...,\n",
       "         [ 3.4913855 ],\n",
       "         [36.602184  ],\n",
       "         [59.382957  ]],\n",
       "\n",
       "        [[ 1.3846414 ],\n",
       "         [ 1.4517202 ],\n",
       "         [ 0.96212494],\n",
       "         ...,\n",
       "         [ 4.3343005 ],\n",
       "         [ 4.774618  ],\n",
       "         [61.571114  ]],\n",
       "\n",
       "        [[ 1.8032522 ],\n",
       "         [ 1.9642605 ],\n",
       "         [ 2.5868323 ],\n",
       "         ...,\n",
       "         [ 2.4209542 ],\n",
       "         [ 4.051546  ],\n",
       "         [29.530867  ]]]], dtype=float32)"
      ]
     },
     "execution_count": 4,
     "metadata": {},
     "output_type": "execute_result"
    }
   ],
   "source": [
    "dataset[0]"
   ]
  },
  {
   "cell_type": "code",
   "execution_count": 5,
   "metadata": {},
   "outputs": [
    {
     "name": "stdout",
     "output_type": "stream",
     "text": [
      "(65774, 32, 32, 1)\n"
     ]
    }
   ],
   "source": [
    "#Save the train dataset\n",
    "savedata = np.array(dataset[0])\n",
    "np.save('train.npy', savedata)\n",
    "np.save('train_labels.npy', labels)\n",
    "print(savedata.shape)"
   ]
  },
  {
   "cell_type": "code",
   "execution_count": 21,
   "metadata": {},
   "outputs": [],
   "source": [
    "#If you have already created the dataset:\n",
    "train_data_X = np.load('train.npy')\n",
    "labels_y = np.load('train_labels.npy')"
   ]
  },
  {
   "cell_type": "code",
   "execution_count": 22,
   "metadata": {},
   "outputs": [
    {
     "data": {
      "text/plain": [
       "(65774, 32, 32, 1)"
      ]
     },
     "execution_count": 22,
     "metadata": {},
     "output_type": "execute_result"
    }
   ],
   "source": [
    "train_data_X.shape"
   ]
  },
  {
   "cell_type": "code",
   "execution_count": 23,
   "metadata": {},
   "outputs": [
    {
     "data": {
      "text/plain": [
       "<matplotlib.image.AxesImage at 0x150336190>"
      ]
     },
     "execution_count": 23,
     "metadata": {},
     "output_type": "execute_result"
    },
    {
     "data": {
      "image/png": "[encoded data removed]",
      "text/plain": [
       "<Figure size 432x288 with 1 Axes>"
      ]
     },
     "metadata": {},
     "output_type": "display_data"
    }
   ],
   "source": [
    "plt.imshow(train_data_X[530, :, :, :].reshape(RESIZED_IMAGE)) #sample"
   ]
  },
  {
   "cell_type": "code",
   "execution_count": 24,
   "metadata": {},
   "outputs": [
    {
     "data": {
      "text/plain": [
       "<matplotlib.image.AxesImage at 0x12a1477d0>"
      ]
     },
     "execution_count": 24,
     "metadata": {},
     "output_type": "execute_result"
    },
    {
     "data": {
      "image/png": "[encoded data removed]",
      "text/plain": [
       "<Figure size 432x288 with 1 Axes>"
      ]
     },
     "metadata": {},
     "output_type": "display_data"
    }
   ],
   "source": [
    "plt.imshow(train_data_X[100, :, :, :].reshape(RESIZED_IMAGE)) #sample"
   ]
  },
  {
   "cell_type": "code",
   "execution_count": 25,
   "metadata": {},
   "outputs": [
    {
     "name": "stdout",
     "output_type": "stream",
     "text": [
      "(49330, 32, 32, 1)\n",
      "(49330, 24)\n",
      "(16444, 32, 32, 1)\n",
      "(16444, 24)\n"
     ]
    }
   ],
   "source": [
    "from sklearn.model_selection import train_test_split\n",
    "idx_train, idx_test = train_test_split(range(train_data_X.shape[0]), test_size=0.25, random_state=101)\n",
    "X_train = train_data_X[idx_train, :, :, :]\n",
    "X_test = train_data_X[idx_test, :, :, :]\n",
    "y_train = labels_y[idx_train, :]\n",
    "y_test = labels_y[idx_test, :]\n",
    "\n",
    "print(X_train.shape)\n",
    "print(y_train.shape)\n",
    "print(X_test.shape)\n",
    "print(y_test.shape)"
   ]
  },
  {
   "cell_type": "code",
   "execution_count": 26,
   "metadata": {},
   "outputs": [],
   "source": [
    "def minibatcher(X, y, batch_size, shuffle):\n",
    "    assert X.shape[0] == y.shape[0]\n",
    "    n_samples = X.shape[0]\n",
    "  \n",
    "    if shuffle:\n",
    "        idx = np.random.permutation(n_samples)\n",
    "    else:\n",
    "        idx = list(range(n_samples))\n",
    "  \n",
    "    for k in range(int(np.ceil(n_samples/batch_size))):\n",
    "        from_idx = k*batch_size\n",
    "        to_idx = (k+1)*batch_size\n",
    "        yield X[idx[from_idx:to_idx], :, :, :], y[idx[from_idx:to_idx], :]"
   ]
  },
  {
   "cell_type": "code",
   "execution_count": 27,
   "metadata": {},
   "outputs": [],
   "source": [
    "def fc_no_activation_layer(in_tensors, n_units):\n",
    "    w = tf.get_variable('fc_W', \n",
    "    [in_tensors.get_shape()[1], n_units],\n",
    "    tf.float32,\n",
    "    tf.contrib.layers.xavier_initializer())\n",
    "    b = tf.get_variable('fc_B',\n",
    "    [n_units, ],\n",
    "    tf.float32,\n",
    "    tf.constant_initializer(0.0))\n",
    "    return tf.matmul(in_tensors, w) + b\n",
    "\n",
    "def fc_layer(in_tensors, n_units):\n",
    "    return tf.nn.leaky_relu(fc_no_activation_layer(in_tensors, n_units))\n",
    "\n",
    "def maxpool_layer(in_tensors, sampling):\n",
    "    return tf.nn.max_pool(in_tensors, [1, sampling, sampling, 1], [1, sampling, sampling, 1], 'SAME')\n",
    "  \n",
    "def conv_layer(in_tensors, kernel_size, n_units):\n",
    "    w = tf.get_variable('conv_W', \n",
    "    [kernel_size, kernel_size, in_tensors.get_shape()[3], n_units],\n",
    "    tf.float32,\n",
    "    tf.contrib.layers.xavier_initializer())\n",
    "    b = tf.get_variable('conv_B',\n",
    "    [n_units, ],\n",
    "    tf.float32,\n",
    "    tf.constant_initializer(0.0))\n",
    "    return tf.nn.leaky_relu(tf.nn.conv2d(in_tensors, w, [1, 2, 2, 1], 'SAME') + b)\n",
    "\n",
    "def dropout(in_tensors, keep_proba, is_training):\n",
    "    return tf.cond(is_training, lambda: tf.nn.dropout(in_tensors, keep_proba), lambda: in_tensors)\n",
    "\n",
    "  \n",
    "def model(in_tensors, is_training):\n",
    "    # First layer: 5x5 2d-conv, 32 filters, 2x maxpool, 20% drouput\n",
    "    with tf.variable_scope('l1'):\n",
    "        l1 = maxpool_layer(conv_layer(in_tensors, 5, 32), 2)\n",
    "        l1_out = dropout(l1, 0.8, is_training)\n",
    "    # Second layer: 5x5 2d-conv, 64 filters, 2x maxpool, 20% drouput\n",
    "    with tf.variable_scope('l2'):\n",
    "        l2 = maxpool_layer(conv_layer(l1_out, 5, 64), 2)\n",
    "        l2_out = dropout(l2, 0.8, is_training)\n",
    "    \n",
    "    with tf.variable_scope('flatten'):\n",
    "        l2_out_flat = tf.layers.flatten(l2_out)\n",
    "  \n",
    "    # Fully collected layer, 1024 neurons, 40% dropout \n",
    "    with tf.variable_scope('l3'):\n",
    "        l3 = fc_layer(l2_out_flat, 1024)\n",
    "        l3_out = dropout(l3, 0.6, is_training)\n",
    "  \n",
    "    # Output\n",
    "    with tf.variable_scope('out'):\n",
    "        out_tensors = fc_no_activation_layer(l3_out, N_LABELS)\n",
    "  \n",
    "    return out_tensors"
   ]
  },
  {
   "cell_type": "code",
   "execution_count": 46,
   "metadata": {},
   "outputs": [
    {
     "name": "stderr",
     "output_type": "stream",
     "text": [
      "\n",
      "  0%|          | 0/10 [00:00<?, ?it/s]\u001b[A"
     ]
    },
    {
     "name": "stdout",
     "output_type": "stream",
     "text": [
      "('Epoch=', 0)\n"
     ]
    },
    {
     "name": "stderr",
     "output_type": "stream",
     "text": [
      "\n",
      " 10%|█         | 1/10 [00:17<02:35, 17.28s/it]\u001b[A"
     ]
    },
    {
     "name": "stdout",
     "output_type": "stream",
     "text": [
      "(' train_loss_score=', 1.979242)\n",
      "('Epoch=', 1)\n"
     ]
    },
    {
     "name": "stderr",
     "output_type": "stream",
     "text": [
      "\n",
      " 20%|██        | 2/10 [00:34<02:18, 17.37s/it]\u001b[A"
     ]
    },
    {
     "name": "stdout",
     "output_type": "stream",
     "text": [
      "(' train_loss_score=', 0.78717756)\n",
      "('Epoch=', 2)\n"
     ]
    },
    {
     "name": "stderr",
     "output_type": "stream",
     "text": [
      "\n",
      " 30%|███       | 3/10 [00:51<01:59, 17.10s/it]\u001b[A"
     ]
    },
    {
     "name": "stdout",
     "output_type": "stream",
     "text": [
      "(' train_loss_score=', 0.5351909)\n",
      "('Epoch=', 3)\n"
     ]
    },
    {
     "name": "stderr",
     "output_type": "stream",
     "text": [
      "\n",
      " 40%|████      | 4/10 [01:07<01:41, 16.91s/it]\u001b[A"
     ]
    },
    {
     "name": "stdout",
     "output_type": "stream",
     "text": [
      "(' train_loss_score=', 0.4180201)\n",
      "('Epoch=', 4)\n"
     ]
    },
    {
     "name": "stderr",
     "output_type": "stream",
     "text": [
      "\n",
      " 50%|█████     | 5/10 [01:23<01:23, 16.79s/it]\u001b[A"
     ]
    },
    {
     "name": "stdout",
     "output_type": "stream",
     "text": [
      "(' train_loss_score=', 0.3529819)\n",
      "('Epoch=', 5)\n"
     ]
    },
    {
     "name": "stderr",
     "output_type": "stream",
     "text": [
      "\n",
      " 60%|██████    | 6/10 [01:39<01:06, 16.64s/it]\u001b[A"
     ]
    },
    {
     "name": "stdout",
     "output_type": "stream",
     "text": [
      "(' train_loss_score=', 0.29973)\n",
      "('Epoch=', 6)\n"
     ]
    },
    {
     "name": "stderr",
     "output_type": "stream",
     "text": [
      "\n",
      " 70%|███████   | 7/10 [01:56<00:50, 16.69s/it]\u001b[A"
     ]
    },
    {
     "name": "stdout",
     "output_type": "stream",
     "text": [
      "(' train_loss_score=', 0.27225918)\n",
      "('Epoch=', 7)\n"
     ]
    },
    {
     "name": "stderr",
     "output_type": "stream",
     "text": [
      "\n",
      " 80%|████████  | 8/10 [02:13<00:33, 16.66s/it]\u001b[A"
     ]
    },
    {
     "name": "stdout",
     "output_type": "stream",
     "text": [
      "(' train_loss_score=', 0.2450213)\n",
      "('Epoch=', 8)\n"
     ]
    },
    {
     "name": "stderr",
     "output_type": "stream",
     "text": [
      "\n",
      " 90%|█████████ | 9/10 [02:29<00:16, 16.60s/it]\u001b[A"
     ]
    },
    {
     "name": "stdout",
     "output_type": "stream",
     "text": [
      "(' train_loss_score=', 0.22749458)\n",
      "('Epoch=', 9)\n"
     ]
    },
    {
     "name": "stderr",
     "output_type": "stream",
     "text": [
      "\n",
      "100%|██████████| 10/10 [02:45<00:00, 16.59s/it]\u001b[A\n",
      "\u001b[A"
     ]
    },
    {
     "name": "stdout",
     "output_type": "stream",
     "text": [
      "(' train_loss_score=', 0.21686988)\n",
      "Model saved in path: /Volumes/Shared/model.ckpt\n",
      "TEST SET PERFORMANCE\n",
      "(' test_loss_score=', 0.10054103)\n",
      "             precision    recall  f1-score   support\n",
      "\n",
      "          0       0.98      0.98      0.98       641\n",
      "          1       0.99      1.00      0.99       729\n",
      "          2       0.99      0.98      0.98       743\n",
      "          3       1.00      0.94      0.97       640\n",
      "          4       0.99      0.97      0.98       666\n",
      "          5       0.99      0.98      0.98       625\n",
      "          6       0.97      0.95      0.96       701\n",
      "          7       0.94      0.98      0.96       680\n",
      "          8       0.98      0.98      0.98       652\n",
      "          9       0.98      0.97      0.98       725\n",
      "         10       1.00      0.98      0.99       693\n",
      "         11       0.95      0.98      0.96       693\n",
      "         12       0.97      0.94      0.95       665\n",
      "         13       0.99      0.93      0.96       669\n",
      "         14       0.94      0.97      0.95       697\n",
      "         15       0.95      0.98      0.96       659\n",
      "         16       0.92      0.98      0.95       758\n",
      "         17       0.95      0.98      0.96       722\n",
      "         18       0.95      0.96      0.96       698\n",
      "         19       0.97      0.94      0.95       654\n",
      "         20       0.94      0.97      0.95       691\n",
      "         21       0.98      0.99      0.98       790\n",
      "         22       0.99      0.96      0.97       642\n",
      "         23       0.98      0.97      0.98       611\n",
      "\n",
      "avg / total       0.97      0.97      0.97     16444\n",
      "\n"
     ]
    },
    {
     "data": {
      "image/png": "[encoded data removed]",
      "text/plain": [
       "<Figure size 432x288 with 2 Axes>"
      ]
     },
     "metadata": {},
     "output_type": "display_data"
    },
    {
     "data": {
      "image/png": "[encoded data removed]",
      "text/plain": [
       "<Figure size 432x288 with 2 Axes>"
      ]
     },
     "metadata": {},
     "output_type": "display_data"
    }
   ],
   "source": [
    "from sklearn.metrics import classification_report, confusion_matrix\n",
    "from tensorflow.python.framework import ops\n",
    "trainloss_list=[]\n",
    "\n",
    "def train_model(X_train, y_train, X_test, y_test, learning_rate, max_epochs, batch_size):\n",
    "    in_X_tensors_batch = tf.placeholder(tf.float32, shape = (None, RESIZED_IMAGE[0], RESIZED_IMAGE[1], 1),name=\"in_X_tensors_batch\")\n",
    "    in_y_tensors_batch = tf.placeholder(tf.float32, shape = (None, N_LABELS),name= \"in_y_tensors_batch\")\n",
    "    is_training = tf.placeholder(tf.bool, name=\"is_training\")\n",
    "    \n",
    "    logits = model(in_X_tensors_batch, is_training)\n",
    "    out_y_pred = tf.nn.softmax(logits,name=\"out_y_pred\")\n",
    "    loss_score = tf.nn.softmax_cross_entropy_with_logits(logits=logits, labels=in_y_tensors_batch, name=\"loss_score\")\n",
    "    loss = tf.reduce_mean(loss_score, name=\"loss\")\n",
    "    optimizer = tf.train.AdamOptimizer(learning_rate).minimize(loss)\n",
    "    # Add ops to save and restore all the variables.\n",
    "    \n",
    "    with tf.Session() as session:\n",
    "        session.run(tf.global_variables_initializer())\n",
    "        for epoch in tqdm(range(max_epochs)):\n",
    "            print(\"Epoch=\", epoch)\n",
    "            tf_score = []\n",
    "            for mb in minibatcher(X_train, y_train, batch_size, shuffle = True):\n",
    "                tf_output = session.run([optimizer, loss], \n",
    "                                        feed_dict = {in_X_tensors_batch : mb[0],\n",
    "                                                     in_y_tensors_batch : mb[1],\n",
    "                                                     is_training : True})\n",
    "                tf_score.append(tf_output[1])\n",
    "            print(\" train_loss_score=\", np.mean(tf_score))\n",
    "            trainloss_list.append(np.mean(tf_score)) #trainloss list\n",
    "        saver = tf.train.Saver()    \n",
    "        if(IsSavePath):    \n",
    "            # Save the variables to disk.\n",
    "            save_path = saver.save(session, r\"/Volumes/Shared/model.ckpt\")\n",
    "            print(\"Model saved in path: %s\" % save_path)\n",
    "            \n",
    "        # Restore variables from disk.\n",
    "        #saver.restore(session, r\"/Volumes/Shared/model.ckpt\")\n",
    "        #print(\"Model restored.\")\n",
    "        tf.summary.FileWriter(r'/Volumes/Shared/logtensor.log', session.graph)    \n",
    "        # after the training is done, time to test it on the test set\n",
    "        print(\"TEST SET PERFORMANCE\")\n",
    "        y_test_pred, test_loss  = session.run([out_y_pred, loss], \n",
    "                                              feed_dict = {in_X_tensors_batch : X_test, \n",
    "                                                           in_y_tensors_batch : y_test,\n",
    "                                                           is_training : False})\n",
    "    \n",
    "        print(\" test_loss_score=\", test_loss)\n",
    "        y_test_pred_classified = np.argmax(y_test_pred, axis=1).astype(np.int32)\n",
    "        y_test_true_classified = np.argmax(y_test, axis=1).astype(np.int32)\n",
    "        print(classification_report(y_test_true_classified, y_test_pred_classified))\n",
    "    \n",
    "        cm = confusion_matrix(y_test_true_classified, y_test_pred_classified)\n",
    "    \n",
    "        plt.imshow(cm, interpolation='nearest', cmap=plt.cm.Blues)\n",
    "        plt.colorbar()\n",
    "        plt.tight_layout()\n",
    "        plt.show()\n",
    "    \n",
    "        # And the log2 version, to enphasize the misclassifications\n",
    "        plt.imshow(np.log2(cm + 1), interpolation='nearest', cmap=plt.get_cmap(\"tab20\"))\n",
    "        plt.colorbar()\n",
    "        plt.tight_layout()\n",
    "        plt.show()\n",
    "\n",
    "\n",
    "ops.reset_default_graph()\n",
    "train_model(X_train, y_train, X_test, y_test, 0.001, 10, 256)"
   ]
  },
  {
   "cell_type": "code",
   "execution_count": 18,
   "metadata": {},
   "outputs": [
    {
     "data": {
      "text/plain": [
       "[2.0264242,\n",
       " 0.8061841,\n",
       " 0.53967327,\n",
       " 0.42542136,\n",
       " 0.35607377,\n",
       " 0.30505303,\n",
       " 0.2675248,\n",
       " 0.25412017,\n",
       " 0.22761321,\n",
       " 0.21703732]"
      ]
     },
     "execution_count": 18,
     "metadata": {},
     "output_type": "execute_result"
    }
   ],
   "source": [
    "trainloss_list"
   ]
  },
  {
   "cell_type": "code",
   "execution_count": 26,
   "metadata": {},
   "outputs": [
    {
     "data": {
      "text/plain": [
       "Text(0.5,0,'Epochs')"
      ]
     },
     "execution_count": 26,
     "metadata": {},
     "output_type": "execute_result"
    },
    {
     "data": {
      "image/png": "[encoded data removed]",
      "text/plain": [
       "<Figure size 432x288 with 1 Axes>"
      ]
     },
     "metadata": {},
     "output_type": "display_data"
    }
   ],
   "source": [
    "epochs=[0,1,2,3,4,5,6,7,8,9]\n",
    "plt.plot(epochs,trainloss_list, linewidth=2.0)\n",
    "plt.grid(True)\n",
    "plt.ylabel('Train Loss')\n",
    "plt.xlabel('Epochs')"
   ]
  },
  {
   "cell_type": "code",
   "execution_count": 29,
   "metadata": {},
   "outputs": [],
   "source": [
    "#VIDEO PART NOT COMPLETED# DONOT RUN <b>"
   ]
  },
  {
   "cell_type": "code",
   "execution_count": 4,
   "metadata": {},
   "outputs": [],
   "source": [
    "video_path= '/Volumes/Shared/MAC/UCDenver_CSE/HandSymbol.mov'"
   ]
  },
  {
   "cell_type": "code",
   "execution_count": 61,
   "metadata": {},
   "outputs": [
    {
     "name": "stdout",
     "output_type": "stream",
     "text": [
      "INFO:tensorflow:Restoring parameters from /Volumes/Shared/model.ckpt\n",
      "Model restored.\n"
     ]
    },
    {
     "ename": "InvalidArgumentError",
     "evalue": "You must feed a value for placeholder tensor 'in_y_tensors_batch' with dtype float and shape [?,24]\n\t [[Node: in_y_tensors_batch = Placeholder[dtype=DT_FLOAT, shape=[?,24], _device=\"/job:localhost/replica:0/task:0/device:CPU:0\"]()]]\n\nCaused by op u'in_y_tensors_batch', defined at:\n  File \"/Users/mohammadtayyab/anaconda3/envs/tensorflow/lib/python2.7/runpy.py\", line 174, in _run_module_as_main\n    \"__main__\", fname, loader, pkg_name)\n  File \"/Users/mohammadtayyab/anaconda3/envs/tensorflow/lib/python2.7/runpy.py\", line 72, in _run_code\n    exec code in run_globals\n  File \"/Users/mohammadtayyab/anaconda3/envs/tensorflow/lib/python2.7/site-packages/ipykernel_launcher.py\", line 16, in <module>\n    app.launch_new_instance()\n  File \"/Users/mohammadtayyab/anaconda3/envs/tensorflow/lib/python2.7/site-packages/traitlets/config/application.py\", line 658, in launch_instance\n    app.start()\n  File \"/Users/mohammadtayyab/anaconda3/envs/tensorflow/lib/python2.7/site-packages/ipykernel/kernelapp.py\", line 486, in start\n    self.io_loop.start()\n  File \"/Users/mohammadtayyab/anaconda3/envs/tensorflow/lib/python2.7/site-packages/tornado/ioloop.py\", line 1064, in start\n    handler_func(fd_obj, events)\n  File \"/Users/mohammadtayyab/anaconda3/envs/tensorflow/lib/python2.7/site-packages/tornado/stack_context.py\", line 276, in null_wrapper\n    return fn(*args, **kwargs)\n  File \"/Users/mohammadtayyab/anaconda3/envs/tensorflow/lib/python2.7/site-packages/zmq/eventloop/zmqstream.py\", line 450, in _handle_events\n    self._handle_recv()\n  File \"/Users/mohammadtayyab/anaconda3/envs/tensorflow/lib/python2.7/site-packages/zmq/eventloop/zmqstream.py\", line 480, in _handle_recv\n    self._run_callback(callback, msg)\n  File \"/Users/mohammadtayyab/anaconda3/envs/tensorflow/lib/python2.7/site-packages/zmq/eventloop/zmqstream.py\", line 432, in _run_callback\n    callback(*args, **kwargs)\n  File \"/Users/mohammadtayyab/anaconda3/envs/tensorflow/lib/python2.7/site-packages/tornado/stack_context.py\", line 276, in null_wrapper\n    return fn(*args, **kwargs)\n  File \"/Users/mohammadtayyab/anaconda3/envs/tensorflow/lib/python2.7/site-packages/ipykernel/kernelbase.py\", line 283, in dispatcher\n    return self.dispatch_shell(stream, msg)\n  File \"/Users/mohammadtayyab/anaconda3/envs/tensorflow/lib/python2.7/site-packages/ipykernel/kernelbase.py\", line 233, in dispatch_shell\n    handler(stream, idents, msg)\n  File \"/Users/mohammadtayyab/anaconda3/envs/tensorflow/lib/python2.7/site-packages/ipykernel/kernelbase.py\", line 399, in execute_request\n    user_expressions, allow_stdin)\n  File \"/Users/mohammadtayyab/anaconda3/envs/tensorflow/lib/python2.7/site-packages/ipykernel/ipkernel.py\", line 208, in do_execute\n    res = shell.run_cell(code, store_history=store_history, silent=silent)\n  File \"/Users/mohammadtayyab/anaconda3/envs/tensorflow/lib/python2.7/site-packages/ipykernel/zmqshell.py\", line 537, in run_cell\n    return super(ZMQInteractiveShell, self).run_cell(*args, **kwargs)\n  File \"/Users/mohammadtayyab/anaconda3/envs/tensorflow/lib/python2.7/site-packages/IPython/core/interactiveshell.py\", line 2714, in run_cell\n    interactivity=interactivity, compiler=compiler, result=result)\n  File \"/Users/mohammadtayyab/anaconda3/envs/tensorflow/lib/python2.7/site-packages/IPython/core/interactiveshell.py\", line 2824, in run_ast_nodes\n    if self.run_code(code, result):\n  File \"/Users/mohammadtayyab/anaconda3/envs/tensorflow/lib/python2.7/site-packages/IPython/core/interactiveshell.py\", line 2878, in run_code\n    exec(code_obj, self.user_global_ns, self.user_ns)\n  File \"<ipython-input-46-9ab1b030bc37>\", line 67, in <module>\n    train_model(X_train, y_train, X_test, y_test, 0.001, 10, 256)\n  File \"<ipython-input-46-9ab1b030bc37>\", line 7, in train_model\n    in_y_tensors_batch = tf.placeholder(tf.float32, shape = (None, N_LABELS),name= \"in_y_tensors_batch\")\n  File \"/Users/mohammadtayyab/anaconda3/envs/tensorflow/lib/python2.7/site-packages/tensorflow/python/ops/array_ops.py\", line 1808, in placeholder\n    return gen_array_ops.placeholder(dtype=dtype, shape=shape, name=name)\n  File \"/Users/mohammadtayyab/anaconda3/envs/tensorflow/lib/python2.7/site-packages/tensorflow/python/ops/gen_array_ops.py\", line 4848, in placeholder\n    \"Placeholder\", dtype=dtype, shape=shape, name=name)\n  File \"/Users/mohammadtayyab/anaconda3/envs/tensorflow/lib/python2.7/site-packages/tensorflow/python/framework/op_def_library.py\", line 787, in _apply_op_helper\n    op_def=op_def)\n  File \"/Users/mohammadtayyab/anaconda3/envs/tensorflow/lib/python2.7/site-packages/tensorflow/python/framework/ops.py\", line 3392, in create_op\n    op_def=op_def)\n  File \"/Users/mohammadtayyab/anaconda3/envs/tensorflow/lib/python2.7/site-packages/tensorflow/python/framework/ops.py\", line 1718, in __init__\n    self._traceback = self._graph._extract_stack()  # pylint: disable=protected-access\n\nInvalidArgumentError (see above for traceback): You must feed a value for placeholder tensor 'in_y_tensors_batch' with dtype float and shape [?,24]\n\t [[Node: in_y_tensors_batch = Placeholder[dtype=DT_FLOAT, shape=[?,24], _device=\"/job:localhost/replica:0/task:0/device:CPU:0\"]()]]\n",
     "output_type": "error",
     "traceback": [
      "\u001b[0;31m---------------------------------------------------------------------------\u001b[0m",
      "\u001b[0;31mInvalidArgumentError\u001b[0m                      Traceback (most recent call last)",
      "\u001b[0;32m<ipython-input-61-3820aad2503b>\u001b[0m in \u001b[0;36m<module>\u001b[0;34m()\u001b[0m\n\u001b[1;32m     21\u001b[0m             \u001b[0mloss_New\u001b[0m \u001b[0;34m=\u001b[0m \u001b[0msess\u001b[0m\u001b[0;34m.\u001b[0m\u001b[0mgraph\u001b[0m\u001b[0;34m.\u001b[0m\u001b[0mget_tensor_by_name\u001b[0m\u001b[0;34m(\u001b[0m\u001b[0;34m\"loss:0\"\u001b[0m\u001b[0;34m)\u001b[0m\u001b[0;34m\u001b[0m\u001b[0m\n\u001b[1;32m     22\u001b[0m             \u001b[0mis_training_New\u001b[0m\u001b[0;34m=\u001b[0m\u001b[0mFalse\u001b[0m\u001b[0;34m\u001b[0m\u001b[0m\n\u001b[0;32m---> 23\u001b[0;31m             \u001b[0my_test_pred_New\u001b[0m\u001b[0;34m,\u001b[0m \u001b[0mtest_loss_New\u001b[0m  \u001b[0;34m=\u001b[0m \u001b[0msess\u001b[0m\u001b[0;34m.\u001b[0m\u001b[0mrun\u001b[0m\u001b[0;34m(\u001b[0m\u001b[0;34m[\u001b[0m\u001b[0mout_y_pred\u001b[0m\u001b[0;34m,\u001b[0m \u001b[0mloss\u001b[0m\u001b[0;34m]\u001b[0m\u001b[0;34m)\u001b[0m\u001b[0;34m\u001b[0m\u001b[0m\n\u001b[0m\u001b[1;32m     24\u001b[0m \u001b[0;34m\u001b[0m\u001b[0m\n\u001b[1;32m     25\u001b[0m             \u001b[0;32mprint\u001b[0m\u001b[0;34m(\u001b[0m\u001b[0;34m\" test_loss_score=\"\u001b[0m\u001b[0;34m,\u001b[0m \u001b[0mtest_loss\u001b[0m\u001b[0;34m)\u001b[0m\u001b[0;34m\u001b[0m\u001b[0m\n",
      "\u001b[0;32m/Users/mohammadtayyab/anaconda3/envs/tensorflow/lib/python2.7/site-packages/tensorflow/python/client/session.pyc\u001b[0m in \u001b[0;36mrun\u001b[0;34m(self, fetches, feed_dict, options, run_metadata)\u001b[0m\n\u001b[1;32m    898\u001b[0m     \u001b[0;32mtry\u001b[0m\u001b[0;34m:\u001b[0m\u001b[0;34m\u001b[0m\u001b[0m\n\u001b[1;32m    899\u001b[0m       result = self._run(None, fetches, feed_dict, options_ptr,\n\u001b[0;32m--> 900\u001b[0;31m                          run_metadata_ptr)\n\u001b[0m\u001b[1;32m    901\u001b[0m       \u001b[0;32mif\u001b[0m \u001b[0mrun_metadata\u001b[0m\u001b[0;34m:\u001b[0m\u001b[0;34m\u001b[0m\u001b[0m\n\u001b[1;32m    902\u001b[0m         \u001b[0mproto_data\u001b[0m \u001b[0;34m=\u001b[0m \u001b[0mtf_session\u001b[0m\u001b[0;34m.\u001b[0m\u001b[0mTF_GetBuffer\u001b[0m\u001b[0;34m(\u001b[0m\u001b[0mrun_metadata_ptr\u001b[0m\u001b[0;34m)\u001b[0m\u001b[0;34m\u001b[0m\u001b[0m\n",
      "\u001b[0;32m/Users/mohammadtayyab/anaconda3/envs/tensorflow/lib/python2.7/site-packages/tensorflow/python/client/session.pyc\u001b[0m in \u001b[0;36m_run\u001b[0;34m(self, handle, fetches, feed_dict, options, run_metadata)\u001b[0m\n\u001b[1;32m   1133\u001b[0m     \u001b[0;32mif\u001b[0m \u001b[0mfinal_fetches\u001b[0m \u001b[0;32mor\u001b[0m \u001b[0mfinal_targets\u001b[0m \u001b[0;32mor\u001b[0m \u001b[0;34m(\u001b[0m\u001b[0mhandle\u001b[0m \u001b[0;32mand\u001b[0m \u001b[0mfeed_dict_tensor\u001b[0m\u001b[0;34m)\u001b[0m\u001b[0;34m:\u001b[0m\u001b[0;34m\u001b[0m\u001b[0m\n\u001b[1;32m   1134\u001b[0m       results = self._do_run(handle, final_targets, final_fetches,\n\u001b[0;32m-> 1135\u001b[0;31m                              feed_dict_tensor, options, run_metadata)\n\u001b[0m\u001b[1;32m   1136\u001b[0m     \u001b[0;32melse\u001b[0m\u001b[0;34m:\u001b[0m\u001b[0;34m\u001b[0m\u001b[0m\n\u001b[1;32m   1137\u001b[0m       \u001b[0mresults\u001b[0m \u001b[0;34m=\u001b[0m \u001b[0;34m[\u001b[0m\u001b[0;34m]\u001b[0m\u001b[0;34m\u001b[0m\u001b[0m\n",
      "\u001b[0;32m/Users/mohammadtayyab/anaconda3/envs/tensorflow/lib/python2.7/site-packages/tensorflow/python/client/session.pyc\u001b[0m in \u001b[0;36m_do_run\u001b[0;34m(self, handle, target_list, fetch_list, feed_dict, options, run_metadata)\u001b[0m\n\u001b[1;32m   1314\u001b[0m     \u001b[0;32mif\u001b[0m \u001b[0mhandle\u001b[0m \u001b[0;32mis\u001b[0m \u001b[0mNone\u001b[0m\u001b[0;34m:\u001b[0m\u001b[0;34m\u001b[0m\u001b[0m\n\u001b[1;32m   1315\u001b[0m       return self._do_call(_run_fn, feeds, fetches, targets, options,\n\u001b[0;32m-> 1316\u001b[0;31m                            run_metadata)\n\u001b[0m\u001b[1;32m   1317\u001b[0m     \u001b[0;32melse\u001b[0m\u001b[0;34m:\u001b[0m\u001b[0;34m\u001b[0m\u001b[0m\n\u001b[1;32m   1318\u001b[0m       \u001b[0;32mreturn\u001b[0m \u001b[0mself\u001b[0m\u001b[0;34m.\u001b[0m\u001b[0m_do_call\u001b[0m\u001b[0;34m(\u001b[0m\u001b[0m_prun_fn\u001b[0m\u001b[0;34m,\u001b[0m \u001b[0mhandle\u001b[0m\u001b[0;34m,\u001b[0m \u001b[0mfeeds\u001b[0m\u001b[0;34m,\u001b[0m \u001b[0mfetches\u001b[0m\u001b[0;34m)\u001b[0m\u001b[0;34m\u001b[0m\u001b[0m\n",
      "\u001b[0;32m/Users/mohammadtayyab/anaconda3/envs/tensorflow/lib/python2.7/site-packages/tensorflow/python/client/session.pyc\u001b[0m in \u001b[0;36m_do_call\u001b[0;34m(self, fn, *args)\u001b[0m\n\u001b[1;32m   1333\u001b[0m         \u001b[0;32mexcept\u001b[0m \u001b[0mKeyError\u001b[0m\u001b[0;34m:\u001b[0m\u001b[0;34m\u001b[0m\u001b[0m\n\u001b[1;32m   1334\u001b[0m           \u001b[0;32mpass\u001b[0m\u001b[0;34m\u001b[0m\u001b[0m\n\u001b[0;32m-> 1335\u001b[0;31m       \u001b[0;32mraise\u001b[0m \u001b[0mtype\u001b[0m\u001b[0;34m(\u001b[0m\u001b[0me\u001b[0m\u001b[0;34m)\u001b[0m\u001b[0;34m(\u001b[0m\u001b[0mnode_def\u001b[0m\u001b[0;34m,\u001b[0m \u001b[0mop\u001b[0m\u001b[0;34m,\u001b[0m \u001b[0mmessage\u001b[0m\u001b[0;34m)\u001b[0m\u001b[0;34m\u001b[0m\u001b[0m\n\u001b[0m\u001b[1;32m   1336\u001b[0m \u001b[0;34m\u001b[0m\u001b[0m\n\u001b[1;32m   1337\u001b[0m   \u001b[0;32mdef\u001b[0m \u001b[0m_extend_graph\u001b[0m\u001b[0;34m(\u001b[0m\u001b[0mself\u001b[0m\u001b[0;34m)\u001b[0m\u001b[0;34m:\u001b[0m\u001b[0;34m\u001b[0m\u001b[0m\n",
      "\u001b[0;31mInvalidArgumentError\u001b[0m: You must feed a value for placeholder tensor 'in_y_tensors_batch' with dtype float and shape [?,24]\n\t [[Node: in_y_tensors_batch = Placeholder[dtype=DT_FLOAT, shape=[?,24], _device=\"/job:localhost/replica:0/task:0/device:CPU:0\"]()]]\n\nCaused by op u'in_y_tensors_batch', defined at:\n  File \"/Users/mohammadtayyab/anaconda3/envs/tensorflow/lib/python2.7/runpy.py\", line 174, in _run_module_as_main\n    \"__main__\", fname, loader, pkg_name)\n  File \"/Users/mohammadtayyab/anaconda3/envs/tensorflow/lib/python2.7/runpy.py\", line 72, in _run_code\n    exec code in run_globals\n  File \"/Users/mohammadtayyab/anaconda3/envs/tensorflow/lib/python2.7/site-packages/ipykernel_launcher.py\", line 16, in <module>\n    app.launch_new_instance()\n  File \"/Users/mohammadtayyab/anaconda3/envs/tensorflow/lib/python2.7/site-packages/traitlets/config/application.py\", line 658, in launch_instance\n    app.start()\n  File \"/Users/mohammadtayyab/anaconda3/envs/tensorflow/lib/python2.7/site-packages/ipykernel/kernelapp.py\", line 486, in start\n    self.io_loop.start()\n  File \"/Users/mohammadtayyab/anaconda3/envs/tensorflow/lib/python2.7/site-packages/tornado/ioloop.py\", line 1064, in start\n    handler_func(fd_obj, events)\n  File \"/Users/mohammadtayyab/anaconda3/envs/tensorflow/lib/python2.7/site-packages/tornado/stack_context.py\", line 276, in null_wrapper\n    return fn(*args, **kwargs)\n  File \"/Users/mohammadtayyab/anaconda3/envs/tensorflow/lib/python2.7/site-packages/zmq/eventloop/zmqstream.py\", line 450, in _handle_events\n    self._handle_recv()\n  File \"/Users/mohammadtayyab/anaconda3/envs/tensorflow/lib/python2.7/site-packages/zmq/eventloop/zmqstream.py\", line 480, in _handle_recv\n    self._run_callback(callback, msg)\n  File \"/Users/mohammadtayyab/anaconda3/envs/tensorflow/lib/python2.7/site-packages/zmq/eventloop/zmqstream.py\", line 432, in _run_callback\n    callback(*args, **kwargs)\n  File \"/Users/mohammadtayyab/anaconda3/envs/tensorflow/lib/python2.7/site-packages/tornado/stack_context.py\", line 276, in null_wrapper\n    return fn(*args, **kwargs)\n  File \"/Users/mohammadtayyab/anaconda3/envs/tensorflow/lib/python2.7/site-packages/ipykernel/kernelbase.py\", line 283, in dispatcher\n    return self.dispatch_shell(stream, msg)\n  File \"/Users/mohammadtayyab/anaconda3/envs/tensorflow/lib/python2.7/site-packages/ipykernel/kernelbase.py\", line 233, in dispatch_shell\n    handler(stream, idents, msg)\n  File \"/Users/mohammadtayyab/anaconda3/envs/tensorflow/lib/python2.7/site-packages/ipykernel/kernelbase.py\", line 399, in execute_request\n    user_expressions, allow_stdin)\n  File \"/Users/mohammadtayyab/anaconda3/envs/tensorflow/lib/python2.7/site-packages/ipykernel/ipkernel.py\", line 208, in do_execute\n    res = shell.run_cell(code, store_history=store_history, silent=silent)\n  File \"/Users/mohammadtayyab/anaconda3/envs/tensorflow/lib/python2.7/site-packages/ipykernel/zmqshell.py\", line 537, in run_cell\n    return super(ZMQInteractiveShell, self).run_cell(*args, **kwargs)\n  File \"/Users/mohammadtayyab/anaconda3/envs/tensorflow/lib/python2.7/site-packages/IPython/core/interactiveshell.py\", line 2714, in run_cell\n    interactivity=interactivity, compiler=compiler, result=result)\n  File \"/Users/mohammadtayyab/anaconda3/envs/tensorflow/lib/python2.7/site-packages/IPython/core/interactiveshell.py\", line 2824, in run_ast_nodes\n    if self.run_code(code, result):\n  File \"/Users/mohammadtayyab/anaconda3/envs/tensorflow/lib/python2.7/site-packages/IPython/core/interactiveshell.py\", line 2878, in run_code\n    exec(code_obj, self.user_global_ns, self.user_ns)\n  File \"<ipython-input-46-9ab1b030bc37>\", line 67, in <module>\n    train_model(X_train, y_train, X_test, y_test, 0.001, 10, 256)\n  File \"<ipython-input-46-9ab1b030bc37>\", line 7, in train_model\n    in_y_tensors_batch = tf.placeholder(tf.float32, shape = (None, N_LABELS),name= \"in_y_tensors_batch\")\n  File \"/Users/mohammadtayyab/anaconda3/envs/tensorflow/lib/python2.7/site-packages/tensorflow/python/ops/array_ops.py\", line 1808, in placeholder\n    return gen_array_ops.placeholder(dtype=dtype, shape=shape, name=name)\n  File \"/Users/mohammadtayyab/anaconda3/envs/tensorflow/lib/python2.7/site-packages/tensorflow/python/ops/gen_array_ops.py\", line 4848, in placeholder\n    \"Placeholder\", dtype=dtype, shape=shape, name=name)\n  File \"/Users/mohammadtayyab/anaconda3/envs/tensorflow/lib/python2.7/site-packages/tensorflow/python/framework/op_def_library.py\", line 787, in _apply_op_helper\n    op_def=op_def)\n  File \"/Users/mohammadtayyab/anaconda3/envs/tensorflow/lib/python2.7/site-packages/tensorflow/python/framework/ops.py\", line 3392, in create_op\n    op_def=op_def)\n  File \"/Users/mohammadtayyab/anaconda3/envs/tensorflow/lib/python2.7/site-packages/tensorflow/python/framework/ops.py\", line 1718, in __init__\n    self._traceback = self._graph._extract_stack()  # pylint: disable=protected-access\n\nInvalidArgumentError (see above for traceback): You must feed a value for placeholder tensor 'in_y_tensors_batch' with dtype float and shape [?,24]\n\t [[Node: in_y_tensors_batch = Placeholder[dtype=DT_FLOAT, shape=[?,24], _device=\"/job:localhost/replica:0/task:0/device:CPU:0\"]()]]\n"
     ]
    }
   ],
   "source": [
    "with tf.Session() as sess:\n",
    "    new_saver = tf.train.import_meta_graph('/Volumes/Shared/model.ckpt.meta')\n",
    "    new_saver.restore(sess, tf.train.latest_checkpoint('/Volumes/Shared/'+'./'))\n",
    "\n",
    "    print(\"Model restored.\")\n",
    "    video_capture = cv2.VideoCapture(video_path) \n",
    "    i = 0\n",
    "    while True:  # fps._numFrames < 120\n",
    "        frame = video_capture.read()[1] # get current frame\n",
    "        frameId = video_capture.get(1) #current frame number\n",
    "        if (0 == 0):  # not necessary\n",
    "            i = i + 1\n",
    "            cv2.imwrite(filename=\"/Volumes/Shared/FingerVideo/\"+str(i)+\"alpha.png\", img=frame); # write frame image to file\n",
    "            image_data = tf.gfile.FastGFile(\"/Volumes/Shared/FingerVideo/\"+str(i)+\"alpha.png\", 'rb').read() # get this image file\n",
    "            in_X_tensors_batch_New = sess.graph.get_tensor_by_name(\"in_X_tensors_batch:0\")\n",
    "            in_y_tensors_batch_New = sess.graph.get_tensor_by_name(\"in_y_tensors_batch:0\")\n",
    "            is_training_New = sess.graph.get_tensor_by_name(\"is_training:0\")\n",
    "    \n",
    "            out_y_pred_New = sess.graph.get_tensor_by_name(\"out_y_pred:0\")\n",
    "            loss_score_New = sess.graph.get_tensor_by_name(\"loss_score:0\")\n",
    "            loss_New = sess.graph.get_tensor_by_name(\"loss:0\")\n",
    "            is_training_New=False\n",
    "            y_test_pred_New, test_loss_New  = sess.run([out_y_pred, loss])\n",
    "    \n",
    "            print(\" test_loss_score=\", test_loss)\n",
    "            y_test_pred_classified = np.argmax(y_test_pred_New, axis=1).astype(np.int32)\n",
    "            #y_test_true_classified = np.argmax(y_test, axis=1).astype(np.int32)\n",
    "            #print(classification_report(y_test_true_classified, y_test_pred_classified))\n",
    "            \n",
    "            \n",
    "#             predictions = sess.run(softmax_tensor, \\\n",
    "#                      {'DecodeJpeg/contents:0': image_data}) # analyse the image\n",
    "#             top_k = predictions[0].argsort()[-len(predictions[0]):][::-1]\n",
    "#             for node_id in top_k:\n",
    "#                 human_string = label_lines[node_id]\n",
    "#                 score = predictions[0][node_id]\n",
    "#                 print('%s (score = %.5f)' % (human_string, score))\n",
    "#             print (\"\\n\\n\")\n",
    "#             cv2.imshow(\"image\", frame)  # show frame in window\n",
    "            if cv2.waitKey(25) & 0xFF == ord('q'):\n",
    "                cv2.destroyAllWindows()\n",
    "                break"
   ]
  },
  {
   "cell_type": "code",
   "execution_count": 2,
   "metadata": {},
   "outputs": [],
   "source": [
    "video_capture.release() \n",
    "cv2.destroyAllWindows()"
   ]
  },
  {
   "cell_type": "code",
   "execution_count": null,
   "metadata": {},
   "outputs": [],
   "source": [
    "# Path to frozen detection graph. This is the actual model that is used for the object detection.\n",
    "PATH_TO_CKPT = r\"/Volumes/Shared/model.ckpt\"\n",
    "\n",
    "# List of the strings that is used to add correct label for each box.\n",
    "PATH_TO_LABELS = os.path.join('data', 'mscoco_label_map.pbtxt')"
   ]
  },
  {
   "cell_type": "code",
   "execution_count": null,
   "metadata": {},
   "outputs": [],
   "source": [
    "detection_graph = tf.Graph()\n",
    "with detection_graph.as_default():\n",
    "    od_graph_def = tf.GraphDef()\n",
    "    with tf.gfile.GFile(PATH_TO_CKPT, 'rb') as fid:\n",
    "        serialized_graph = fid.read()\n",
    "        od_graph_def.ParseFromString(serialized_graph)\n",
    "        tf.import_graph_def(od_graph_def, name='')\n",
    "\n",
    "\n",
    "# Loading label map\n",
    "# Label maps map indices to category names, so that when our convolution network predicts `5`, we know that this corresponds to `airplane`.  Here we use internal utility functions, but anything that returns a dictionary mapping integers to appropriate string labels would be fine\n",
    "\n",
    "label_map = label_map_util.load_labelmap(PATH_TO_LABELS)\n",
    "categories = label_map_util.convert_label_map_to_categories(label_map, max_num_classes=NUM_CLASSES, use_display_name=True)\n",
    "category_index = label_map_util.create_category_index(categories)\n"
   ]
  },
  {
   "cell_type": "code",
   "execution_count": null,
   "metadata": {},
   "outputs": [],
   "source": [
    "cv2.imshow('object detection', cv2.resize(image_np, (800,600)))\n",
    "      if cv2.waitKey(25) & 0xFF == ord('q'):\n",
    "        cv2.destroyAllWindows()\n",
    "        break"
   ]
  }
 ],
 "metadata": {
  "kernelspec": {
   "display_name": "Python 2",
   "language": "python",
   "name": "python2"
  },
  "language_info": {
   "codemirror_mode": {
    "name": "ipython",
    "version": 2
   },
   "file_extension": ".py",
   "mimetype": "text/x-python",
   "name": "python",
   "nbconvert_exporter": "python",
   "pygments_lexer": "ipython2",
   "version": "2.7.15"
  }
 },
 "nbformat": 4,
 "nbformat_minor": 2
}
